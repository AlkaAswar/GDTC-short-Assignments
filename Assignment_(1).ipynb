{
  "cells": [
    {
      "cell_type": "markdown",
      "metadata": {
        "id": "view-in-github",
        "colab_type": "text"
      },
      "source": [
        "<a href=\"https://colab.research.google.com/github/AlkaAswar/GDTC-short-Assignments/blob/main/Assignment_(1).ipynb\" target=\"_parent\"><img src=\"https://colab.research.google.com/assets/colab-badge.svg\" alt=\"Open In Colab\"/></a>"
      ]
    },
    {
      "cell_type": "markdown",
      "id": "25c44ce9",
      "metadata": {
        "id": "25c44ce9"
      },
      "source": [
        "## Task  1\n",
        "Merge the 3 dataset and create 1 view of data.\n",
        "You can merge insurance_data.csv and employee_data.csv on\n",
        "AGENT_ID You can merge insurance_data.csv and vendor_data.csv on\n",
        "VENDOR_ID Note: Use left Outer join as not all claims require Vendor"
      ]
    },
    {
      "cell_type": "code",
      "execution_count": null,
      "id": "20894d7b",
      "metadata": {
        "id": "20894d7b"
      },
      "outputs": [],
      "source": [
        "import pandas as pd\n",
        "import numpy as np"
      ]
    },
    {
      "cell_type": "code",
      "execution_count": null,
      "id": "a466e95d",
      "metadata": {
        "id": "a466e95d"
      },
      "outputs": [],
      "source": [
        "insurance_data=pd.read_csv('insurance_data.csv')\n",
        "employee_data=pd.read_csv('employee_data.csv')\n",
        "vendor_data=pd.read_csv('vendor_data.csv')"
      ]
    },
    {
      "cell_type": "code",
      "execution_count": null,
      "id": "8a342d3c",
      "metadata": {
        "colab": {
          "base_uri": "https://localhost:8080/",
          "height": 386
        },
        "id": "8a342d3c",
        "outputId": "afa6465f-f3f8-46c7-ac89-8206fbd676aa"
      },
      "outputs": [
        {
          "output_type": "execute_result",
          "data": {
            "text/plain": [
              "         TXN_DATE_TIME TRANSACTION_ID CUSTOMER_ID POLICY_NUMBER POLICY_EFF_DT  \\\n",
              "0  2020-06-01 00:00:00    TXN00000001   A00003822   PLC00008468    2015-06-23   \n",
              "1  2020-06-01 00:00:00    TXN00000002   A00008149   PLC00009594    2018-04-21   \n",
              "2  2020-06-01 00:00:00    TXN00000003   A00003172   PLC00007969    2019-10-03   \n",
              "3  2020-06-01 00:00:00    TXN00000004   A00007572   PLC00009292    2016-11-29   \n",
              "4  2020-06-01 00:00:00    TXN00000005   A00008173   PLC00000204    2011-12-26   \n",
              "\n",
              "      LOSS_DT   REPORT_DT INSURANCE_TYPE  PREMIUM_AMOUNT  CLAIM_AMOUNT  ...  \\\n",
              "0  2020-05-16  2020-05-21         Health          157.13        9000.0  ...   \n",
              "1  2020-05-13  2020-05-18       Property          141.71       26000.0  ...   \n",
              "2  2020-05-21  2020-05-26       Property          157.24       13000.0  ...   \n",
              "3  2020-05-14  2020-05-19         Health          172.87       16000.0  ...   \n",
              "4  2020-05-17  2020-05-22         Travel           88.53        3000.0  ...   \n",
              "\n",
              "  CLAIM_STATUS INCIDENT_SEVERITY AUTHORITY_CONTACTED ANY_INJURY  \\\n",
              "0            A        Major Loss              Police        0.0   \n",
              "1            A        Total Loss           Ambulance        1.0   \n",
              "2            A        Total Loss              Police        0.0   \n",
              "3            A        Minor Loss           Ambulance        0.0   \n",
              "4            A        Major Loss              Police        0.0   \n",
              "\n",
              "  POLICE_REPORT_AVAILABLE  INCIDENT_STATE   INCIDENT_CITY  \\\n",
              "0                     1.0              GA        Savannah   \n",
              "1                     0.0              AL      Montgomery   \n",
              "2                     1.0              CO  Grand Junction   \n",
              "3                     0.0              GA        Savannah   \n",
              "4                     1.0              TN       Nashville   \n",
              "\n",
              "  INCIDENT_HOUR_OF_THE_DAY    AGENT_ID  VENDOR_ID  \n",
              "0                      4.0  AGENT00413  VNDR00556  \n",
              "1                      0.0  AGENT00769  VNDR00592  \n",
              "2                     19.0  AGENT00883  VNDR00031  \n",
              "3                     12.0  AGENT00278  VNDR00075  \n",
              "4                     18.0  AGENT00636  VNDR00472  \n",
              "\n",
              "[5 rows x 38 columns]"
            ],
            "text/html": [
              "\n",
              "  <div id=\"df-c6a3e3cc-3336-45d7-bea1-1c3f89ebc402\">\n",
              "    <div class=\"colab-df-container\">\n",
              "      <div>\n",
              "<style scoped>\n",
              "    .dataframe tbody tr th:only-of-type {\n",
              "        vertical-align: middle;\n",
              "    }\n",
              "\n",
              "    .dataframe tbody tr th {\n",
              "        vertical-align: top;\n",
              "    }\n",
              "\n",
              "    .dataframe thead th {\n",
              "        text-align: right;\n",
              "    }\n",
              "</style>\n",
              "<table border=\"1\" class=\"dataframe\">\n",
              "  <thead>\n",
              "    <tr style=\"text-align: right;\">\n",
              "      <th></th>\n",
              "      <th>TXN_DATE_TIME</th>\n",
              "      <th>TRANSACTION_ID</th>\n",
              "      <th>CUSTOMER_ID</th>\n",
              "      <th>POLICY_NUMBER</th>\n",
              "      <th>POLICY_EFF_DT</th>\n",
              "      <th>LOSS_DT</th>\n",
              "      <th>REPORT_DT</th>\n",
              "      <th>INSURANCE_TYPE</th>\n",
              "      <th>PREMIUM_AMOUNT</th>\n",
              "      <th>CLAIM_AMOUNT</th>\n",
              "      <th>...</th>\n",
              "      <th>CLAIM_STATUS</th>\n",
              "      <th>INCIDENT_SEVERITY</th>\n",
              "      <th>AUTHORITY_CONTACTED</th>\n",
              "      <th>ANY_INJURY</th>\n",
              "      <th>POLICE_REPORT_AVAILABLE</th>\n",
              "      <th>INCIDENT_STATE</th>\n",
              "      <th>INCIDENT_CITY</th>\n",
              "      <th>INCIDENT_HOUR_OF_THE_DAY</th>\n",
              "      <th>AGENT_ID</th>\n",
              "      <th>VENDOR_ID</th>\n",
              "    </tr>\n",
              "  </thead>\n",
              "  <tbody>\n",
              "    <tr>\n",
              "      <th>0</th>\n",
              "      <td>2020-06-01 00:00:00</td>\n",
              "      <td>TXN00000001</td>\n",
              "      <td>A00003822</td>\n",
              "      <td>PLC00008468</td>\n",
              "      <td>2015-06-23</td>\n",
              "      <td>2020-05-16</td>\n",
              "      <td>2020-05-21</td>\n",
              "      <td>Health</td>\n",
              "      <td>157.13</td>\n",
              "      <td>9000.0</td>\n",
              "      <td>...</td>\n",
              "      <td>A</td>\n",
              "      <td>Major Loss</td>\n",
              "      <td>Police</td>\n",
              "      <td>0.0</td>\n",
              "      <td>1.0</td>\n",
              "      <td>GA</td>\n",
              "      <td>Savannah</td>\n",
              "      <td>4.0</td>\n",
              "      <td>AGENT00413</td>\n",
              "      <td>VNDR00556</td>\n",
              "    </tr>\n",
              "    <tr>\n",
              "      <th>1</th>\n",
              "      <td>2020-06-01 00:00:00</td>\n",
              "      <td>TXN00000002</td>\n",
              "      <td>A00008149</td>\n",
              "      <td>PLC00009594</td>\n",
              "      <td>2018-04-21</td>\n",
              "      <td>2020-05-13</td>\n",
              "      <td>2020-05-18</td>\n",
              "      <td>Property</td>\n",
              "      <td>141.71</td>\n",
              "      <td>26000.0</td>\n",
              "      <td>...</td>\n",
              "      <td>A</td>\n",
              "      <td>Total Loss</td>\n",
              "      <td>Ambulance</td>\n",
              "      <td>1.0</td>\n",
              "      <td>0.0</td>\n",
              "      <td>AL</td>\n",
              "      <td>Montgomery</td>\n",
              "      <td>0.0</td>\n",
              "      <td>AGENT00769</td>\n",
              "      <td>VNDR00592</td>\n",
              "    </tr>\n",
              "    <tr>\n",
              "      <th>2</th>\n",
              "      <td>2020-06-01 00:00:00</td>\n",
              "      <td>TXN00000003</td>\n",
              "      <td>A00003172</td>\n",
              "      <td>PLC00007969</td>\n",
              "      <td>2019-10-03</td>\n",
              "      <td>2020-05-21</td>\n",
              "      <td>2020-05-26</td>\n",
              "      <td>Property</td>\n",
              "      <td>157.24</td>\n",
              "      <td>13000.0</td>\n",
              "      <td>...</td>\n",
              "      <td>A</td>\n",
              "      <td>Total Loss</td>\n",
              "      <td>Police</td>\n",
              "      <td>0.0</td>\n",
              "      <td>1.0</td>\n",
              "      <td>CO</td>\n",
              "      <td>Grand Junction</td>\n",
              "      <td>19.0</td>\n",
              "      <td>AGENT00883</td>\n",
              "      <td>VNDR00031</td>\n",
              "    </tr>\n",
              "    <tr>\n",
              "      <th>3</th>\n",
              "      <td>2020-06-01 00:00:00</td>\n",
              "      <td>TXN00000004</td>\n",
              "      <td>A00007572</td>\n",
              "      <td>PLC00009292</td>\n",
              "      <td>2016-11-29</td>\n",
              "      <td>2020-05-14</td>\n",
              "      <td>2020-05-19</td>\n",
              "      <td>Health</td>\n",
              "      <td>172.87</td>\n",
              "      <td>16000.0</td>\n",
              "      <td>...</td>\n",
              "      <td>A</td>\n",
              "      <td>Minor Loss</td>\n",
              "      <td>Ambulance</td>\n",
              "      <td>0.0</td>\n",
              "      <td>0.0</td>\n",
              "      <td>GA</td>\n",
              "      <td>Savannah</td>\n",
              "      <td>12.0</td>\n",
              "      <td>AGENT00278</td>\n",
              "      <td>VNDR00075</td>\n",
              "    </tr>\n",
              "    <tr>\n",
              "      <th>4</th>\n",
              "      <td>2020-06-01 00:00:00</td>\n",
              "      <td>TXN00000005</td>\n",
              "      <td>A00008173</td>\n",
              "      <td>PLC00000204</td>\n",
              "      <td>2011-12-26</td>\n",
              "      <td>2020-05-17</td>\n",
              "      <td>2020-05-22</td>\n",
              "      <td>Travel</td>\n",
              "      <td>88.53</td>\n",
              "      <td>3000.0</td>\n",
              "      <td>...</td>\n",
              "      <td>A</td>\n",
              "      <td>Major Loss</td>\n",
              "      <td>Police</td>\n",
              "      <td>0.0</td>\n",
              "      <td>1.0</td>\n",
              "      <td>TN</td>\n",
              "      <td>Nashville</td>\n",
              "      <td>18.0</td>\n",
              "      <td>AGENT00636</td>\n",
              "      <td>VNDR00472</td>\n",
              "    </tr>\n",
              "  </tbody>\n",
              "</table>\n",
              "<p>5 rows × 38 columns</p>\n",
              "</div>\n",
              "      <button class=\"colab-df-convert\" onclick=\"convertToInteractive('df-c6a3e3cc-3336-45d7-bea1-1c3f89ebc402')\"\n",
              "              title=\"Convert this dataframe to an interactive table.\"\n",
              "              style=\"display:none;\">\n",
              "        \n",
              "  <svg xmlns=\"http://www.w3.org/2000/svg\" height=\"24px\"viewBox=\"0 0 24 24\"\n",
              "       width=\"24px\">\n",
              "    <path d=\"M0 0h24v24H0V0z\" fill=\"none\"/>\n",
              "    <path d=\"M18.56 5.44l.94 2.06.94-2.06 2.06-.94-2.06-.94-.94-2.06-.94 2.06-2.06.94zm-11 1L8.5 8.5l.94-2.06 2.06-.94-2.06-.94L8.5 2.5l-.94 2.06-2.06.94zm10 10l.94 2.06.94-2.06 2.06-.94-2.06-.94-.94-2.06-.94 2.06-2.06.94z\"/><path d=\"M17.41 7.96l-1.37-1.37c-.4-.4-.92-.59-1.43-.59-.52 0-1.04.2-1.43.59L10.3 9.45l-7.72 7.72c-.78.78-.78 2.05 0 2.83L4 21.41c.39.39.9.59 1.41.59.51 0 1.02-.2 1.41-.59l7.78-7.78 2.81-2.81c.8-.78.8-2.07 0-2.86zM5.41 20L4 18.59l7.72-7.72 1.47 1.35L5.41 20z\"/>\n",
              "  </svg>\n",
              "      </button>\n",
              "      \n",
              "  <style>\n",
              "    .colab-df-container {\n",
              "      display:flex;\n",
              "      flex-wrap:wrap;\n",
              "      gap: 12px;\n",
              "    }\n",
              "\n",
              "    .colab-df-convert {\n",
              "      background-color: #E8F0FE;\n",
              "      border: none;\n",
              "      border-radius: 50%;\n",
              "      cursor: pointer;\n",
              "      display: none;\n",
              "      fill: #1967D2;\n",
              "      height: 32px;\n",
              "      padding: 0 0 0 0;\n",
              "      width: 32px;\n",
              "    }\n",
              "\n",
              "    .colab-df-convert:hover {\n",
              "      background-color: #E2EBFA;\n",
              "      box-shadow: 0px 1px 2px rgba(60, 64, 67, 0.3), 0px 1px 3px 1px rgba(60, 64, 67, 0.15);\n",
              "      fill: #174EA6;\n",
              "    }\n",
              "\n",
              "    [theme=dark] .colab-df-convert {\n",
              "      background-color: #3B4455;\n",
              "      fill: #D2E3FC;\n",
              "    }\n",
              "\n",
              "    [theme=dark] .colab-df-convert:hover {\n",
              "      background-color: #434B5C;\n",
              "      box-shadow: 0px 1px 3px 1px rgba(0, 0, 0, 0.15);\n",
              "      filter: drop-shadow(0px 1px 2px rgba(0, 0, 0, 0.3));\n",
              "      fill: #FFFFFF;\n",
              "    }\n",
              "  </style>\n",
              "\n",
              "      <script>\n",
              "        const buttonEl =\n",
              "          document.querySelector('#df-c6a3e3cc-3336-45d7-bea1-1c3f89ebc402 button.colab-df-convert');\n",
              "        buttonEl.style.display =\n",
              "          google.colab.kernel.accessAllowed ? 'block' : 'none';\n",
              "\n",
              "        async function convertToInteractive(key) {\n",
              "          const element = document.querySelector('#df-c6a3e3cc-3336-45d7-bea1-1c3f89ebc402');\n",
              "          const dataTable =\n",
              "            await google.colab.kernel.invokeFunction('convertToInteractive',\n",
              "                                                     [key], {});\n",
              "          if (!dataTable) return;\n",
              "\n",
              "          const docLinkHtml = 'Like what you see? Visit the ' +\n",
              "            '<a target=\"_blank\" href=https://colab.research.google.com/notebooks/data_table.ipynb>data table notebook</a>'\n",
              "            + ' to learn more about interactive tables.';\n",
              "          element.innerHTML = '';\n",
              "          dataTable['output_type'] = 'display_data';\n",
              "          await google.colab.output.renderOutput(dataTable, element);\n",
              "          const docLink = document.createElement('div');\n",
              "          docLink.innerHTML = docLinkHtml;\n",
              "          element.appendChild(docLink);\n",
              "        }\n",
              "      </script>\n",
              "    </div>\n",
              "  </div>\n",
              "  "
            ]
          },
          "metadata": {},
          "execution_count": 6
        }
      ],
      "source": [
        "insurance_data.head()"
      ]
    },
    {
      "cell_type": "code",
      "execution_count": null,
      "id": "123d0b91",
      "metadata": {
        "colab": {
          "base_uri": "https://localhost:8080/"
        },
        "id": "123d0b91",
        "outputId": "b32558f5-e910-45ab-bfd4-dd34f3b90ef7"
      },
      "outputs": [
        {
          "output_type": "execute_result",
          "data": {
            "text/plain": [
              "(7135, 38)"
            ]
          },
          "metadata": {},
          "execution_count": 7
        }
      ],
      "source": [
        "insurance_data.shape"
      ]
    },
    {
      "cell_type": "code",
      "execution_count": null,
      "id": "8c9f079a",
      "metadata": {
        "colab": {
          "base_uri": "https://localhost:8080/",
          "height": 250
        },
        "id": "8c9f079a",
        "outputId": "ca57f70d-c905-4de4-b5e6-d45ab99ee127"
      },
      "outputs": [
        {
          "output_type": "execute_result",
          "data": {
            "text/plain": [
              "     AGENT_ID      AGENT_NAME DATE_OF_JOINING          ADDRESS_LINE1  \\\n",
              "0  AGENT00001       Ray Johns      1993-06-05       1402 Maggies Way   \n",
              "1  AGENT00002   Angelo Borjon      2005-12-27         414 Tanya Pass   \n",
              "2  AGENT00003  Candy Spellman      2003-09-02    606 National Street   \n",
              "3  AGENT00004      Mary Smith      2004-09-23  235 Hugh Thomas Drive   \n",
              "4  AGENT00005    Mildred Diaz      2011-06-21  3426 Broadview Street   \n",
              "\n",
              "  ADDRESS_LINE2              CITY STATE  POSTAL_CODE  EMP_ROUTING_NUMBER  \\\n",
              "0           NaN  Waterbury Center    VT         5677            34584958   \n",
              "1           NaN       Panama City    FL        32404           107363763   \n",
              "2          #306      Fayetteville    AR        72701            81744097   \n",
              "3           NaN       Panama City    FL        32404            67563771   \n",
              "4           NaN        Montgomery    AL        36110           114951317   \n",
              "\n",
              "      EMP_ACCT_NUMBER  \n",
              "0  HKUN51252328472585  \n",
              "1  OPIS19290040088204  \n",
              "2  YSCJ67489688482590  \n",
              "3  ZANG21285355574581  \n",
              "4  DZFS82244494451134  "
            ],
            "text/html": [
              "\n",
              "  <div id=\"df-118fecb7-c903-46d6-8983-7cb9dc7d67e0\">\n",
              "    <div class=\"colab-df-container\">\n",
              "      <div>\n",
              "<style scoped>\n",
              "    .dataframe tbody tr th:only-of-type {\n",
              "        vertical-align: middle;\n",
              "    }\n",
              "\n",
              "    .dataframe tbody tr th {\n",
              "        vertical-align: top;\n",
              "    }\n",
              "\n",
              "    .dataframe thead th {\n",
              "        text-align: right;\n",
              "    }\n",
              "</style>\n",
              "<table border=\"1\" class=\"dataframe\">\n",
              "  <thead>\n",
              "    <tr style=\"text-align: right;\">\n",
              "      <th></th>\n",
              "      <th>AGENT_ID</th>\n",
              "      <th>AGENT_NAME</th>\n",
              "      <th>DATE_OF_JOINING</th>\n",
              "      <th>ADDRESS_LINE1</th>\n",
              "      <th>ADDRESS_LINE2</th>\n",
              "      <th>CITY</th>\n",
              "      <th>STATE</th>\n",
              "      <th>POSTAL_CODE</th>\n",
              "      <th>EMP_ROUTING_NUMBER</th>\n",
              "      <th>EMP_ACCT_NUMBER</th>\n",
              "    </tr>\n",
              "  </thead>\n",
              "  <tbody>\n",
              "    <tr>\n",
              "      <th>0</th>\n",
              "      <td>AGENT00001</td>\n",
              "      <td>Ray Johns</td>\n",
              "      <td>1993-06-05</td>\n",
              "      <td>1402 Maggies Way</td>\n",
              "      <td>NaN</td>\n",
              "      <td>Waterbury Center</td>\n",
              "      <td>VT</td>\n",
              "      <td>5677</td>\n",
              "      <td>34584958</td>\n",
              "      <td>HKUN51252328472585</td>\n",
              "    </tr>\n",
              "    <tr>\n",
              "      <th>1</th>\n",
              "      <td>AGENT00002</td>\n",
              "      <td>Angelo Borjon</td>\n",
              "      <td>2005-12-27</td>\n",
              "      <td>414 Tanya Pass</td>\n",
              "      <td>NaN</td>\n",
              "      <td>Panama City</td>\n",
              "      <td>FL</td>\n",
              "      <td>32404</td>\n",
              "      <td>107363763</td>\n",
              "      <td>OPIS19290040088204</td>\n",
              "    </tr>\n",
              "    <tr>\n",
              "      <th>2</th>\n",
              "      <td>AGENT00003</td>\n",
              "      <td>Candy Spellman</td>\n",
              "      <td>2003-09-02</td>\n",
              "      <td>606 National Street</td>\n",
              "      <td>#306</td>\n",
              "      <td>Fayetteville</td>\n",
              "      <td>AR</td>\n",
              "      <td>72701</td>\n",
              "      <td>81744097</td>\n",
              "      <td>YSCJ67489688482590</td>\n",
              "    </tr>\n",
              "    <tr>\n",
              "      <th>3</th>\n",
              "      <td>AGENT00004</td>\n",
              "      <td>Mary Smith</td>\n",
              "      <td>2004-09-23</td>\n",
              "      <td>235 Hugh Thomas Drive</td>\n",
              "      <td>NaN</td>\n",
              "      <td>Panama City</td>\n",
              "      <td>FL</td>\n",
              "      <td>32404</td>\n",
              "      <td>67563771</td>\n",
              "      <td>ZANG21285355574581</td>\n",
              "    </tr>\n",
              "    <tr>\n",
              "      <th>4</th>\n",
              "      <td>AGENT00005</td>\n",
              "      <td>Mildred Diaz</td>\n",
              "      <td>2011-06-21</td>\n",
              "      <td>3426 Broadview Street</td>\n",
              "      <td>NaN</td>\n",
              "      <td>Montgomery</td>\n",
              "      <td>AL</td>\n",
              "      <td>36110</td>\n",
              "      <td>114951317</td>\n",
              "      <td>DZFS82244494451134</td>\n",
              "    </tr>\n",
              "  </tbody>\n",
              "</table>\n",
              "</div>\n",
              "      <button class=\"colab-df-convert\" onclick=\"convertToInteractive('df-118fecb7-c903-46d6-8983-7cb9dc7d67e0')\"\n",
              "              title=\"Convert this dataframe to an interactive table.\"\n",
              "              style=\"display:none;\">\n",
              "        \n",
              "  <svg xmlns=\"http://www.w3.org/2000/svg\" height=\"24px\"viewBox=\"0 0 24 24\"\n",
              "       width=\"24px\">\n",
              "    <path d=\"M0 0h24v24H0V0z\" fill=\"none\"/>\n",
              "    <path d=\"M18.56 5.44l.94 2.06.94-2.06 2.06-.94-2.06-.94-.94-2.06-.94 2.06-2.06.94zm-11 1L8.5 8.5l.94-2.06 2.06-.94-2.06-.94L8.5 2.5l-.94 2.06-2.06.94zm10 10l.94 2.06.94-2.06 2.06-.94-2.06-.94-.94-2.06-.94 2.06-2.06.94z\"/><path d=\"M17.41 7.96l-1.37-1.37c-.4-.4-.92-.59-1.43-.59-.52 0-1.04.2-1.43.59L10.3 9.45l-7.72 7.72c-.78.78-.78 2.05 0 2.83L4 21.41c.39.39.9.59 1.41.59.51 0 1.02-.2 1.41-.59l7.78-7.78 2.81-2.81c.8-.78.8-2.07 0-2.86zM5.41 20L4 18.59l7.72-7.72 1.47 1.35L5.41 20z\"/>\n",
              "  </svg>\n",
              "      </button>\n",
              "      \n",
              "  <style>\n",
              "    .colab-df-container {\n",
              "      display:flex;\n",
              "      flex-wrap:wrap;\n",
              "      gap: 12px;\n",
              "    }\n",
              "\n",
              "    .colab-df-convert {\n",
              "      background-color: #E8F0FE;\n",
              "      border: none;\n",
              "      border-radius: 50%;\n",
              "      cursor: pointer;\n",
              "      display: none;\n",
              "      fill: #1967D2;\n",
              "      height: 32px;\n",
              "      padding: 0 0 0 0;\n",
              "      width: 32px;\n",
              "    }\n",
              "\n",
              "    .colab-df-convert:hover {\n",
              "      background-color: #E2EBFA;\n",
              "      box-shadow: 0px 1px 2px rgba(60, 64, 67, 0.3), 0px 1px 3px 1px rgba(60, 64, 67, 0.15);\n",
              "      fill: #174EA6;\n",
              "    }\n",
              "\n",
              "    [theme=dark] .colab-df-convert {\n",
              "      background-color: #3B4455;\n",
              "      fill: #D2E3FC;\n",
              "    }\n",
              "\n",
              "    [theme=dark] .colab-df-convert:hover {\n",
              "      background-color: #434B5C;\n",
              "      box-shadow: 0px 1px 3px 1px rgba(0, 0, 0, 0.15);\n",
              "      filter: drop-shadow(0px 1px 2px rgba(0, 0, 0, 0.3));\n",
              "      fill: #FFFFFF;\n",
              "    }\n",
              "  </style>\n",
              "\n",
              "      <script>\n",
              "        const buttonEl =\n",
              "          document.querySelector('#df-118fecb7-c903-46d6-8983-7cb9dc7d67e0 button.colab-df-convert');\n",
              "        buttonEl.style.display =\n",
              "          google.colab.kernel.accessAllowed ? 'block' : 'none';\n",
              "\n",
              "        async function convertToInteractive(key) {\n",
              "          const element = document.querySelector('#df-118fecb7-c903-46d6-8983-7cb9dc7d67e0');\n",
              "          const dataTable =\n",
              "            await google.colab.kernel.invokeFunction('convertToInteractive',\n",
              "                                                     [key], {});\n",
              "          if (!dataTable) return;\n",
              "\n",
              "          const docLinkHtml = 'Like what you see? Visit the ' +\n",
              "            '<a target=\"_blank\" href=https://colab.research.google.com/notebooks/data_table.ipynb>data table notebook</a>'\n",
              "            + ' to learn more about interactive tables.';\n",
              "          element.innerHTML = '';\n",
              "          dataTable['output_type'] = 'display_data';\n",
              "          await google.colab.output.renderOutput(dataTable, element);\n",
              "          const docLink = document.createElement('div');\n",
              "          docLink.innerHTML = docLinkHtml;\n",
              "          element.appendChild(docLink);\n",
              "        }\n",
              "      </script>\n",
              "    </div>\n",
              "  </div>\n",
              "  "
            ]
          },
          "metadata": {},
          "execution_count": 8
        }
      ],
      "source": [
        "employee_data.head()"
      ]
    },
    {
      "cell_type": "code",
      "execution_count": null,
      "id": "35b626ee",
      "metadata": {
        "colab": {
          "base_uri": "https://localhost:8080/"
        },
        "id": "35b626ee",
        "outputId": "c10843f3-782b-46d5-c347-e86407df69b2"
      },
      "outputs": [
        {
          "output_type": "execute_result",
          "data": {
            "text/plain": [
              "(1200, 10)"
            ]
          },
          "metadata": {},
          "execution_count": 9
        }
      ],
      "source": [
        "employee_data.shape"
      ]
    },
    {
      "cell_type": "code",
      "execution_count": null,
      "id": "66621903",
      "metadata": {
        "colab": {
          "base_uri": "https://localhost:8080/",
          "height": 206
        },
        "id": "66621903",
        "outputId": "2bfa49e3-dc63-4c3a-81ac-9501499478f3"
      },
      "outputs": [
        {
          "output_type": "execute_result",
          "data": {
            "text/plain": [
              "   VENDOR_ID              VENDOR_NAME                   ADDRESS_LINE1  \\\n",
              "0  VNDR00001  King, Proctor and Jones        2027 North Shannon Drive   \n",
              "1  VNDR00002               Garcia Ltd          5701 East Shirley Lane   \n",
              "2  VNDR00003               Cherry LLC            1217 Cottondale Road   \n",
              "3  VNDR00004              Mays-Benson  227 West Montgomery Cross Road   \n",
              "4  VNDR00005               Wilson PLC            23 North Hill Street   \n",
              "\n",
              "  ADDRESS_LINE2          CITY STATE  POSTAL_CODE  \n",
              "0            #5  Fayetteville    AR        72703  \n",
              "1           NaN    Montgomery    AL        36117  \n",
              "2           NaN    Montgomery    AL        36109  \n",
              "3          #736      Savannah    GA        31406  \n",
              "4           NaN     Nashville    TN        37210  "
            ],
            "text/html": [
              "\n",
              "  <div id=\"df-0b1435de-cbaa-4928-b047-3ac7a6b3c724\">\n",
              "    <div class=\"colab-df-container\">\n",
              "      <div>\n",
              "<style scoped>\n",
              "    .dataframe tbody tr th:only-of-type {\n",
              "        vertical-align: middle;\n",
              "    }\n",
              "\n",
              "    .dataframe tbody tr th {\n",
              "        vertical-align: top;\n",
              "    }\n",
              "\n",
              "    .dataframe thead th {\n",
              "        text-align: right;\n",
              "    }\n",
              "</style>\n",
              "<table border=\"1\" class=\"dataframe\">\n",
              "  <thead>\n",
              "    <tr style=\"text-align: right;\">\n",
              "      <th></th>\n",
              "      <th>VENDOR_ID</th>\n",
              "      <th>VENDOR_NAME</th>\n",
              "      <th>ADDRESS_LINE1</th>\n",
              "      <th>ADDRESS_LINE2</th>\n",
              "      <th>CITY</th>\n",
              "      <th>STATE</th>\n",
              "      <th>POSTAL_CODE</th>\n",
              "    </tr>\n",
              "  </thead>\n",
              "  <tbody>\n",
              "    <tr>\n",
              "      <th>0</th>\n",
              "      <td>VNDR00001</td>\n",
              "      <td>King, Proctor and Jones</td>\n",
              "      <td>2027 North Shannon Drive</td>\n",
              "      <td>#5</td>\n",
              "      <td>Fayetteville</td>\n",
              "      <td>AR</td>\n",
              "      <td>72703</td>\n",
              "    </tr>\n",
              "    <tr>\n",
              "      <th>1</th>\n",
              "      <td>VNDR00002</td>\n",
              "      <td>Garcia Ltd</td>\n",
              "      <td>5701 East Shirley Lane</td>\n",
              "      <td>NaN</td>\n",
              "      <td>Montgomery</td>\n",
              "      <td>AL</td>\n",
              "      <td>36117</td>\n",
              "    </tr>\n",
              "    <tr>\n",
              "      <th>2</th>\n",
              "      <td>VNDR00003</td>\n",
              "      <td>Cherry LLC</td>\n",
              "      <td>1217 Cottondale Road</td>\n",
              "      <td>NaN</td>\n",
              "      <td>Montgomery</td>\n",
              "      <td>AL</td>\n",
              "      <td>36109</td>\n",
              "    </tr>\n",
              "    <tr>\n",
              "      <th>3</th>\n",
              "      <td>VNDR00004</td>\n",
              "      <td>Mays-Benson</td>\n",
              "      <td>227 West Montgomery Cross Road</td>\n",
              "      <td>#736</td>\n",
              "      <td>Savannah</td>\n",
              "      <td>GA</td>\n",
              "      <td>31406</td>\n",
              "    </tr>\n",
              "    <tr>\n",
              "      <th>4</th>\n",
              "      <td>VNDR00005</td>\n",
              "      <td>Wilson PLC</td>\n",
              "      <td>23 North Hill Street</td>\n",
              "      <td>NaN</td>\n",
              "      <td>Nashville</td>\n",
              "      <td>TN</td>\n",
              "      <td>37210</td>\n",
              "    </tr>\n",
              "  </tbody>\n",
              "</table>\n",
              "</div>\n",
              "      <button class=\"colab-df-convert\" onclick=\"convertToInteractive('df-0b1435de-cbaa-4928-b047-3ac7a6b3c724')\"\n",
              "              title=\"Convert this dataframe to an interactive table.\"\n",
              "              style=\"display:none;\">\n",
              "        \n",
              "  <svg xmlns=\"http://www.w3.org/2000/svg\" height=\"24px\"viewBox=\"0 0 24 24\"\n",
              "       width=\"24px\">\n",
              "    <path d=\"M0 0h24v24H0V0z\" fill=\"none\"/>\n",
              "    <path d=\"M18.56 5.44l.94 2.06.94-2.06 2.06-.94-2.06-.94-.94-2.06-.94 2.06-2.06.94zm-11 1L8.5 8.5l.94-2.06 2.06-.94-2.06-.94L8.5 2.5l-.94 2.06-2.06.94zm10 10l.94 2.06.94-2.06 2.06-.94-2.06-.94-.94-2.06-.94 2.06-2.06.94z\"/><path d=\"M17.41 7.96l-1.37-1.37c-.4-.4-.92-.59-1.43-.59-.52 0-1.04.2-1.43.59L10.3 9.45l-7.72 7.72c-.78.78-.78 2.05 0 2.83L4 21.41c.39.39.9.59 1.41.59.51 0 1.02-.2 1.41-.59l7.78-7.78 2.81-2.81c.8-.78.8-2.07 0-2.86zM5.41 20L4 18.59l7.72-7.72 1.47 1.35L5.41 20z\"/>\n",
              "  </svg>\n",
              "      </button>\n",
              "      \n",
              "  <style>\n",
              "    .colab-df-container {\n",
              "      display:flex;\n",
              "      flex-wrap:wrap;\n",
              "      gap: 12px;\n",
              "    }\n",
              "\n",
              "    .colab-df-convert {\n",
              "      background-color: #E8F0FE;\n",
              "      border: none;\n",
              "      border-radius: 50%;\n",
              "      cursor: pointer;\n",
              "      display: none;\n",
              "      fill: #1967D2;\n",
              "      height: 32px;\n",
              "      padding: 0 0 0 0;\n",
              "      width: 32px;\n",
              "    }\n",
              "\n",
              "    .colab-df-convert:hover {\n",
              "      background-color: #E2EBFA;\n",
              "      box-shadow: 0px 1px 2px rgba(60, 64, 67, 0.3), 0px 1px 3px 1px rgba(60, 64, 67, 0.15);\n",
              "      fill: #174EA6;\n",
              "    }\n",
              "\n",
              "    [theme=dark] .colab-df-convert {\n",
              "      background-color: #3B4455;\n",
              "      fill: #D2E3FC;\n",
              "    }\n",
              "\n",
              "    [theme=dark] .colab-df-convert:hover {\n",
              "      background-color: #434B5C;\n",
              "      box-shadow: 0px 1px 3px 1px rgba(0, 0, 0, 0.15);\n",
              "      filter: drop-shadow(0px 1px 2px rgba(0, 0, 0, 0.3));\n",
              "      fill: #FFFFFF;\n",
              "    }\n",
              "  </style>\n",
              "\n",
              "      <script>\n",
              "        const buttonEl =\n",
              "          document.querySelector('#df-0b1435de-cbaa-4928-b047-3ac7a6b3c724 button.colab-df-convert');\n",
              "        buttonEl.style.display =\n",
              "          google.colab.kernel.accessAllowed ? 'block' : 'none';\n",
              "\n",
              "        async function convertToInteractive(key) {\n",
              "          const element = document.querySelector('#df-0b1435de-cbaa-4928-b047-3ac7a6b3c724');\n",
              "          const dataTable =\n",
              "            await google.colab.kernel.invokeFunction('convertToInteractive',\n",
              "                                                     [key], {});\n",
              "          if (!dataTable) return;\n",
              "\n",
              "          const docLinkHtml = 'Like what you see? Visit the ' +\n",
              "            '<a target=\"_blank\" href=https://colab.research.google.com/notebooks/data_table.ipynb>data table notebook</a>'\n",
              "            + ' to learn more about interactive tables.';\n",
              "          element.innerHTML = '';\n",
              "          dataTable['output_type'] = 'display_data';\n",
              "          await google.colab.output.renderOutput(dataTable, element);\n",
              "          const docLink = document.createElement('div');\n",
              "          docLink.innerHTML = docLinkHtml;\n",
              "          element.appendChild(docLink);\n",
              "        }\n",
              "      </script>\n",
              "    </div>\n",
              "  </div>\n",
              "  "
            ]
          },
          "metadata": {},
          "execution_count": 10
        }
      ],
      "source": [
        "vendor_data.head()"
      ]
    },
    {
      "cell_type": "code",
      "execution_count": null,
      "id": "0d141d70",
      "metadata": {
        "colab": {
          "base_uri": "https://localhost:8080/"
        },
        "id": "0d141d70",
        "outputId": "ed1435da-b206-4bcc-b941-0ce6b798dbca"
      },
      "outputs": [
        {
          "output_type": "execute_result",
          "data": {
            "text/plain": [
              "(600, 7)"
            ]
          },
          "metadata": {},
          "execution_count": 11
        }
      ],
      "source": [
        "vendor_data.shape"
      ]
    },
    {
      "cell_type": "code",
      "execution_count": null,
      "id": "f6e6a7ae",
      "metadata": {
        "id": "f6e6a7ae"
      },
      "outputs": [],
      "source": [
        "m1=pd.merge(insurance_data,employee_data,on='AGENT_ID',how='left',suffixes=('_CUSTOMER','_AGENT'))\n",
        "view=pd.merge(m1,vendor_data,on='VENDOR_ID',how='left')"
      ]
    },
    {
      "cell_type": "code",
      "execution_count": null,
      "id": "33455a02",
      "metadata": {
        "colab": {
          "base_uri": "https://localhost:8080/",
          "height": 713
        },
        "id": "33455a02",
        "outputId": "1f489402-938f-41fd-99e3-505aed117653"
      },
      "outputs": [
        {
          "output_type": "execute_result",
          "data": {
            "text/plain": [
              "            TXN_DATE_TIME TRANSACTION_ID CUSTOMER_ID POLICY_NUMBER  \\\n",
              "0     2020-06-01 00:00:00    TXN00000001   A00003822   PLC00008468   \n",
              "1     2020-06-01 00:00:00    TXN00000002   A00008149   PLC00009594   \n",
              "2     2020-06-01 00:00:00    TXN00000003   A00003172   PLC00007969   \n",
              "3     2020-06-01 00:00:00    TXN00000004   A00007572   PLC00009292   \n",
              "4     2020-06-01 00:00:00    TXN00000005   A00008173   PLC00000204   \n",
              "...                   ...            ...         ...           ...   \n",
              "7130  2021-03-09 00:00:00    TXN00007131   A00007708   PLC00001480   \n",
              "7131  2021-03-09 00:00:00    TXN00007132   A00001741   PLC00000691   \n",
              "7132  2021-03-09 00:00:00    TXN00007133   A00006323   PLC00003053   \n",
              "7133  2021-03-09 00:00:00    TXN00007134   A00005429   PLC00008315   \n",
              "7134    2021-03-09 00:00:            NaN         NaN           NaN   \n",
              "\n",
              "     POLICY_EFF_DT     LOSS_DT   REPORT_DT INSURANCE_TYPE  PREMIUM_AMOUNT  \\\n",
              "0       2015-06-23  2020-05-16  2020-05-21         Health          157.13   \n",
              "1       2018-04-21  2020-05-13  2020-05-18       Property          141.71   \n",
              "2       2019-10-03  2020-05-21  2020-05-26       Property          157.24   \n",
              "3       2016-11-29  2020-05-14  2020-05-19         Health          172.87   \n",
              "4       2011-12-26  2020-05-17  2020-05-22         Travel           88.53   \n",
              "...            ...         ...         ...            ...             ...   \n",
              "7130    2019-05-18  2021-02-28  2021-03-03         Travel           94.08   \n",
              "7131    2016-03-20  2021-02-19  2021-02-24         Mobile            6.89   \n",
              "7132    2017-07-06  2021-03-01  2021-03-04          Motor           76.54   \n",
              "7133    2017-05-04  2021-02-28  2021-03-03         Travel           90.29   \n",
              "7134           NaN         NaN         NaN            NaN             NaN   \n",
              "\n",
              "      CLAIM_AMOUNT  ... STATE_AGENT POSTAL_CODE_AGENT EMP_ROUTING_NUMBER  \\\n",
              "0           9000.0  ...          TN           37217.0         35441155.0   \n",
              "1          26000.0  ...          AZ           85301.0         44055451.0   \n",
              "2          13000.0  ...          AL           36105.0         55770246.0   \n",
              "3          16000.0  ...          OK           73071.0         87652976.0   \n",
              "4           3000.0  ...          MD           21061.0         76119019.0   \n",
              "...            ...  ...         ...               ...                ...   \n",
              "7130        2000.0  ...          AL           36104.0         55104951.0   \n",
              "7131         500.0  ...          DC           20016.0        109100678.0   \n",
              "7132        2000.0  ...          TN           37210.0         17892997.0   \n",
              "7133        5000.0  ...          AL           36109.0         33039653.0   \n",
              "7134           NaN  ...         NaN               NaN                NaN   \n",
              "\n",
              "         EMP_ACCT_NUMBER                       VENDOR_NAME  \\\n",
              "0     LRZO53254369804934                        Ramsey Inc   \n",
              "1     XBYG14382904542874  Morales, Campbell and Washington   \n",
              "2     WRXH14597428306333                       Johnson Ltd   \n",
              "3     YEPN16077902472499                  Blackwell-Foster   \n",
              "4     HZBK86544578578547                       Evans-Scott   \n",
              "...                  ...                               ...   \n",
              "7130  DURH33454307433857                               NaN   \n",
              "7131  QNKT83675204348187           Garcia, Robles and Meza   \n",
              "7132  QGYC27392737161427                    Young-Marshall   \n",
              "7133  EBOR81785887630878                    Ortega-Michael   \n",
              "7134                 NaN                               NaN   \n",
              "\n",
              "                  ADDRESS_LINE1 ADDRESS_LINE2          CITY  STATE  \\\n",
              "0          3114 West 20th Court           NaN   Panama City     FL   \n",
              "1         42 West Louise Street             B  Fayetteville     AR   \n",
              "2       2619 North Quality Lane          #315  Fayetteville     AR   \n",
              "3             3609 Meadow Drive           NaN     Nashville     TN   \n",
              "4     4001 19th Place Northeast           NaN    Washington     DC   \n",
              "...                         ...           ...           ...    ...   \n",
              "7130                        NaN           NaN           NaN    NaN   \n",
              "7131         882 Plantation Way           NaN    Montgomery     AL   \n",
              "7132            152 Teddy Drive           NaN    Union City     CA   \n",
              "7133        2 Misty Marsh Drive           NaN      Savannah     GA   \n",
              "7134                        NaN           NaN           NaN    NaN   \n",
              "\n",
              "      POSTAL_CODE  \n",
              "0         32405.0  \n",
              "1         72701.0  \n",
              "2         72703.0  \n",
              "3         37215.0  \n",
              "4         20018.0  \n",
              "...           ...  \n",
              "7130          NaN  \n",
              "7131      36117.0  \n",
              "7132      94587.0  \n",
              "7133      31419.0  \n",
              "7134          NaN  \n",
              "\n",
              "[7135 rows x 53 columns]"
            ],
            "text/html": [
              "\n",
              "  <div id=\"df-308eb2f1-1ef0-478f-876c-5313febf6663\">\n",
              "    <div class=\"colab-df-container\">\n",
              "      <div>\n",
              "<style scoped>\n",
              "    .dataframe tbody tr th:only-of-type {\n",
              "        vertical-align: middle;\n",
              "    }\n",
              "\n",
              "    .dataframe tbody tr th {\n",
              "        vertical-align: top;\n",
              "    }\n",
              "\n",
              "    .dataframe thead th {\n",
              "        text-align: right;\n",
              "    }\n",
              "</style>\n",
              "<table border=\"1\" class=\"dataframe\">\n",
              "  <thead>\n",
              "    <tr style=\"text-align: right;\">\n",
              "      <th></th>\n",
              "      <th>TXN_DATE_TIME</th>\n",
              "      <th>TRANSACTION_ID</th>\n",
              "      <th>CUSTOMER_ID</th>\n",
              "      <th>POLICY_NUMBER</th>\n",
              "      <th>POLICY_EFF_DT</th>\n",
              "      <th>LOSS_DT</th>\n",
              "      <th>REPORT_DT</th>\n",
              "      <th>INSURANCE_TYPE</th>\n",
              "      <th>PREMIUM_AMOUNT</th>\n",
              "      <th>CLAIM_AMOUNT</th>\n",
              "      <th>...</th>\n",
              "      <th>STATE_AGENT</th>\n",
              "      <th>POSTAL_CODE_AGENT</th>\n",
              "      <th>EMP_ROUTING_NUMBER</th>\n",
              "      <th>EMP_ACCT_NUMBER</th>\n",
              "      <th>VENDOR_NAME</th>\n",
              "      <th>ADDRESS_LINE1</th>\n",
              "      <th>ADDRESS_LINE2</th>\n",
              "      <th>CITY</th>\n",
              "      <th>STATE</th>\n",
              "      <th>POSTAL_CODE</th>\n",
              "    </tr>\n",
              "  </thead>\n",
              "  <tbody>\n",
              "    <tr>\n",
              "      <th>0</th>\n",
              "      <td>2020-06-01 00:00:00</td>\n",
              "      <td>TXN00000001</td>\n",
              "      <td>A00003822</td>\n",
              "      <td>PLC00008468</td>\n",
              "      <td>2015-06-23</td>\n",
              "      <td>2020-05-16</td>\n",
              "      <td>2020-05-21</td>\n",
              "      <td>Health</td>\n",
              "      <td>157.13</td>\n",
              "      <td>9000.0</td>\n",
              "      <td>...</td>\n",
              "      <td>TN</td>\n",
              "      <td>37217.0</td>\n",
              "      <td>35441155.0</td>\n",
              "      <td>LRZO53254369804934</td>\n",
              "      <td>Ramsey Inc</td>\n",
              "      <td>3114 West 20th Court</td>\n",
              "      <td>NaN</td>\n",
              "      <td>Panama City</td>\n",
              "      <td>FL</td>\n",
              "      <td>32405.0</td>\n",
              "    </tr>\n",
              "    <tr>\n",
              "      <th>1</th>\n",
              "      <td>2020-06-01 00:00:00</td>\n",
              "      <td>TXN00000002</td>\n",
              "      <td>A00008149</td>\n",
              "      <td>PLC00009594</td>\n",
              "      <td>2018-04-21</td>\n",
              "      <td>2020-05-13</td>\n",
              "      <td>2020-05-18</td>\n",
              "      <td>Property</td>\n",
              "      <td>141.71</td>\n",
              "      <td>26000.0</td>\n",
              "      <td>...</td>\n",
              "      <td>AZ</td>\n",
              "      <td>85301.0</td>\n",
              "      <td>44055451.0</td>\n",
              "      <td>XBYG14382904542874</td>\n",
              "      <td>Morales, Campbell and Washington</td>\n",
              "      <td>42 West Louise Street</td>\n",
              "      <td>B</td>\n",
              "      <td>Fayetteville</td>\n",
              "      <td>AR</td>\n",
              "      <td>72701.0</td>\n",
              "    </tr>\n",
              "    <tr>\n",
              "      <th>2</th>\n",
              "      <td>2020-06-01 00:00:00</td>\n",
              "      <td>TXN00000003</td>\n",
              "      <td>A00003172</td>\n",
              "      <td>PLC00007969</td>\n",
              "      <td>2019-10-03</td>\n",
              "      <td>2020-05-21</td>\n",
              "      <td>2020-05-26</td>\n",
              "      <td>Property</td>\n",
              "      <td>157.24</td>\n",
              "      <td>13000.0</td>\n",
              "      <td>...</td>\n",
              "      <td>AL</td>\n",
              "      <td>36105.0</td>\n",
              "      <td>55770246.0</td>\n",
              "      <td>WRXH14597428306333</td>\n",
              "      <td>Johnson Ltd</td>\n",
              "      <td>2619 North Quality Lane</td>\n",
              "      <td>#315</td>\n",
              "      <td>Fayetteville</td>\n",
              "      <td>AR</td>\n",
              "      <td>72703.0</td>\n",
              "    </tr>\n",
              "    <tr>\n",
              "      <th>3</th>\n",
              "      <td>2020-06-01 00:00:00</td>\n",
              "      <td>TXN00000004</td>\n",
              "      <td>A00007572</td>\n",
              "      <td>PLC00009292</td>\n",
              "      <td>2016-11-29</td>\n",
              "      <td>2020-05-14</td>\n",
              "      <td>2020-05-19</td>\n",
              "      <td>Health</td>\n",
              "      <td>172.87</td>\n",
              "      <td>16000.0</td>\n",
              "      <td>...</td>\n",
              "      <td>OK</td>\n",
              "      <td>73071.0</td>\n",
              "      <td>87652976.0</td>\n",
              "      <td>YEPN16077902472499</td>\n",
              "      <td>Blackwell-Foster</td>\n",
              "      <td>3609 Meadow Drive</td>\n",
              "      <td>NaN</td>\n",
              "      <td>Nashville</td>\n",
              "      <td>TN</td>\n",
              "      <td>37215.0</td>\n",
              "    </tr>\n",
              "    <tr>\n",
              "      <th>4</th>\n",
              "      <td>2020-06-01 00:00:00</td>\n",
              "      <td>TXN00000005</td>\n",
              "      <td>A00008173</td>\n",
              "      <td>PLC00000204</td>\n",
              "      <td>2011-12-26</td>\n",
              "      <td>2020-05-17</td>\n",
              "      <td>2020-05-22</td>\n",
              "      <td>Travel</td>\n",
              "      <td>88.53</td>\n",
              "      <td>3000.0</td>\n",
              "      <td>...</td>\n",
              "      <td>MD</td>\n",
              "      <td>21061.0</td>\n",
              "      <td>76119019.0</td>\n",
              "      <td>HZBK86544578578547</td>\n",
              "      <td>Evans-Scott</td>\n",
              "      <td>4001 19th Place Northeast</td>\n",
              "      <td>NaN</td>\n",
              "      <td>Washington</td>\n",
              "      <td>DC</td>\n",
              "      <td>20018.0</td>\n",
              "    </tr>\n",
              "    <tr>\n",
              "      <th>...</th>\n",
              "      <td>...</td>\n",
              "      <td>...</td>\n",
              "      <td>...</td>\n",
              "      <td>...</td>\n",
              "      <td>...</td>\n",
              "      <td>...</td>\n",
              "      <td>...</td>\n",
              "      <td>...</td>\n",
              "      <td>...</td>\n",
              "      <td>...</td>\n",
              "      <td>...</td>\n",
              "      <td>...</td>\n",
              "      <td>...</td>\n",
              "      <td>...</td>\n",
              "      <td>...</td>\n",
              "      <td>...</td>\n",
              "      <td>...</td>\n",
              "      <td>...</td>\n",
              "      <td>...</td>\n",
              "      <td>...</td>\n",
              "      <td>...</td>\n",
              "    </tr>\n",
              "    <tr>\n",
              "      <th>7130</th>\n",
              "      <td>2021-03-09 00:00:00</td>\n",
              "      <td>TXN00007131</td>\n",
              "      <td>A00007708</td>\n",
              "      <td>PLC00001480</td>\n",
              "      <td>2019-05-18</td>\n",
              "      <td>2021-02-28</td>\n",
              "      <td>2021-03-03</td>\n",
              "      <td>Travel</td>\n",
              "      <td>94.08</td>\n",
              "      <td>2000.0</td>\n",
              "      <td>...</td>\n",
              "      <td>AL</td>\n",
              "      <td>36104.0</td>\n",
              "      <td>55104951.0</td>\n",
              "      <td>DURH33454307433857</td>\n",
              "      <td>NaN</td>\n",
              "      <td>NaN</td>\n",
              "      <td>NaN</td>\n",
              "      <td>NaN</td>\n",
              "      <td>NaN</td>\n",
              "      <td>NaN</td>\n",
              "    </tr>\n",
              "    <tr>\n",
              "      <th>7131</th>\n",
              "      <td>2021-03-09 00:00:00</td>\n",
              "      <td>TXN00007132</td>\n",
              "      <td>A00001741</td>\n",
              "      <td>PLC00000691</td>\n",
              "      <td>2016-03-20</td>\n",
              "      <td>2021-02-19</td>\n",
              "      <td>2021-02-24</td>\n",
              "      <td>Mobile</td>\n",
              "      <td>6.89</td>\n",
              "      <td>500.0</td>\n",
              "      <td>...</td>\n",
              "      <td>DC</td>\n",
              "      <td>20016.0</td>\n",
              "      <td>109100678.0</td>\n",
              "      <td>QNKT83675204348187</td>\n",
              "      <td>Garcia, Robles and Meza</td>\n",
              "      <td>882 Plantation Way</td>\n",
              "      <td>NaN</td>\n",
              "      <td>Montgomery</td>\n",
              "      <td>AL</td>\n",
              "      <td>36117.0</td>\n",
              "    </tr>\n",
              "    <tr>\n",
              "      <th>7132</th>\n",
              "      <td>2021-03-09 00:00:00</td>\n",
              "      <td>TXN00007133</td>\n",
              "      <td>A00006323</td>\n",
              "      <td>PLC00003053</td>\n",
              "      <td>2017-07-06</td>\n",
              "      <td>2021-03-01</td>\n",
              "      <td>2021-03-04</td>\n",
              "      <td>Motor</td>\n",
              "      <td>76.54</td>\n",
              "      <td>2000.0</td>\n",
              "      <td>...</td>\n",
              "      <td>TN</td>\n",
              "      <td>37210.0</td>\n",
              "      <td>17892997.0</td>\n",
              "      <td>QGYC27392737161427</td>\n",
              "      <td>Young-Marshall</td>\n",
              "      <td>152 Teddy Drive</td>\n",
              "      <td>NaN</td>\n",
              "      <td>Union City</td>\n",
              "      <td>CA</td>\n",
              "      <td>94587.0</td>\n",
              "    </tr>\n",
              "    <tr>\n",
              "      <th>7133</th>\n",
              "      <td>2021-03-09 00:00:00</td>\n",
              "      <td>TXN00007134</td>\n",
              "      <td>A00005429</td>\n",
              "      <td>PLC00008315</td>\n",
              "      <td>2017-05-04</td>\n",
              "      <td>2021-02-28</td>\n",
              "      <td>2021-03-03</td>\n",
              "      <td>Travel</td>\n",
              "      <td>90.29</td>\n",
              "      <td>5000.0</td>\n",
              "      <td>...</td>\n",
              "      <td>AL</td>\n",
              "      <td>36109.0</td>\n",
              "      <td>33039653.0</td>\n",
              "      <td>EBOR81785887630878</td>\n",
              "      <td>Ortega-Michael</td>\n",
              "      <td>2 Misty Marsh Drive</td>\n",
              "      <td>NaN</td>\n",
              "      <td>Savannah</td>\n",
              "      <td>GA</td>\n",
              "      <td>31419.0</td>\n",
              "    </tr>\n",
              "    <tr>\n",
              "      <th>7134</th>\n",
              "      <td>2021-03-09 00:00:</td>\n",
              "      <td>NaN</td>\n",
              "      <td>NaN</td>\n",
              "      <td>NaN</td>\n",
              "      <td>NaN</td>\n",
              "      <td>NaN</td>\n",
              "      <td>NaN</td>\n",
              "      <td>NaN</td>\n",
              "      <td>NaN</td>\n",
              "      <td>NaN</td>\n",
              "      <td>...</td>\n",
              "      <td>NaN</td>\n",
              "      <td>NaN</td>\n",
              "      <td>NaN</td>\n",
              "      <td>NaN</td>\n",
              "      <td>NaN</td>\n",
              "      <td>NaN</td>\n",
              "      <td>NaN</td>\n",
              "      <td>NaN</td>\n",
              "      <td>NaN</td>\n",
              "      <td>NaN</td>\n",
              "    </tr>\n",
              "  </tbody>\n",
              "</table>\n",
              "<p>7135 rows × 53 columns</p>\n",
              "</div>\n",
              "      <button class=\"colab-df-convert\" onclick=\"convertToInteractive('df-308eb2f1-1ef0-478f-876c-5313febf6663')\"\n",
              "              title=\"Convert this dataframe to an interactive table.\"\n",
              "              style=\"display:none;\">\n",
              "        \n",
              "  <svg xmlns=\"http://www.w3.org/2000/svg\" height=\"24px\"viewBox=\"0 0 24 24\"\n",
              "       width=\"24px\">\n",
              "    <path d=\"M0 0h24v24H0V0z\" fill=\"none\"/>\n",
              "    <path d=\"M18.56 5.44l.94 2.06.94-2.06 2.06-.94-2.06-.94-.94-2.06-.94 2.06-2.06.94zm-11 1L8.5 8.5l.94-2.06 2.06-.94-2.06-.94L8.5 2.5l-.94 2.06-2.06.94zm10 10l.94 2.06.94-2.06 2.06-.94-2.06-.94-.94-2.06-.94 2.06-2.06.94z\"/><path d=\"M17.41 7.96l-1.37-1.37c-.4-.4-.92-.59-1.43-.59-.52 0-1.04.2-1.43.59L10.3 9.45l-7.72 7.72c-.78.78-.78 2.05 0 2.83L4 21.41c.39.39.9.59 1.41.59.51 0 1.02-.2 1.41-.59l7.78-7.78 2.81-2.81c.8-.78.8-2.07 0-2.86zM5.41 20L4 18.59l7.72-7.72 1.47 1.35L5.41 20z\"/>\n",
              "  </svg>\n",
              "      </button>\n",
              "      \n",
              "  <style>\n",
              "    .colab-df-container {\n",
              "      display:flex;\n",
              "      flex-wrap:wrap;\n",
              "      gap: 12px;\n",
              "    }\n",
              "\n",
              "    .colab-df-convert {\n",
              "      background-color: #E8F0FE;\n",
              "      border: none;\n",
              "      border-radius: 50%;\n",
              "      cursor: pointer;\n",
              "      display: none;\n",
              "      fill: #1967D2;\n",
              "      height: 32px;\n",
              "      padding: 0 0 0 0;\n",
              "      width: 32px;\n",
              "    }\n",
              "\n",
              "    .colab-df-convert:hover {\n",
              "      background-color: #E2EBFA;\n",
              "      box-shadow: 0px 1px 2px rgba(60, 64, 67, 0.3), 0px 1px 3px 1px rgba(60, 64, 67, 0.15);\n",
              "      fill: #174EA6;\n",
              "    }\n",
              "\n",
              "    [theme=dark] .colab-df-convert {\n",
              "      background-color: #3B4455;\n",
              "      fill: #D2E3FC;\n",
              "    }\n",
              "\n",
              "    [theme=dark] .colab-df-convert:hover {\n",
              "      background-color: #434B5C;\n",
              "      box-shadow: 0px 1px 3px 1px rgba(0, 0, 0, 0.15);\n",
              "      filter: drop-shadow(0px 1px 2px rgba(0, 0, 0, 0.3));\n",
              "      fill: #FFFFFF;\n",
              "    }\n",
              "  </style>\n",
              "\n",
              "      <script>\n",
              "        const buttonEl =\n",
              "          document.querySelector('#df-308eb2f1-1ef0-478f-876c-5313febf6663 button.colab-df-convert');\n",
              "        buttonEl.style.display =\n",
              "          google.colab.kernel.accessAllowed ? 'block' : 'none';\n",
              "\n",
              "        async function convertToInteractive(key) {\n",
              "          const element = document.querySelector('#df-308eb2f1-1ef0-478f-876c-5313febf6663');\n",
              "          const dataTable =\n",
              "            await google.colab.kernel.invokeFunction('convertToInteractive',\n",
              "                                                     [key], {});\n",
              "          if (!dataTable) return;\n",
              "\n",
              "          const docLinkHtml = 'Like what you see? Visit the ' +\n",
              "            '<a target=\"_blank\" href=https://colab.research.google.com/notebooks/data_table.ipynb>data table notebook</a>'\n",
              "            + ' to learn more about interactive tables.';\n",
              "          element.innerHTML = '';\n",
              "          dataTable['output_type'] = 'display_data';\n",
              "          await google.colab.output.renderOutput(dataTable, element);\n",
              "          const docLink = document.createElement('div');\n",
              "          docLink.innerHTML = docLinkHtml;\n",
              "          element.appendChild(docLink);\n",
              "        }\n",
              "      </script>\n",
              "    </div>\n",
              "  </div>\n",
              "  "
            ]
          },
          "metadata": {},
          "execution_count": 13
        }
      ],
      "source": [
        "view"
      ]
    },
    {
      "cell_type": "code",
      "execution_count": null,
      "id": "f835fa37",
      "metadata": {
        "colab": {
          "base_uri": "https://localhost:8080/"
        },
        "id": "f835fa37",
        "outputId": "9b6bd866-164a-48fb-abdf-2e82a6a8eace"
      },
      "outputs": [
        {
          "output_type": "execute_result",
          "data": {
            "text/plain": [
              "(7135, 53)"
            ]
          },
          "metadata": {},
          "execution_count": 14
        }
      ],
      "source": [
        "view.shape"
      ]
    },
    {
      "cell_type": "markdown",
      "id": "5e8d41c3",
      "metadata": {
        "id": "5e8d41c3"
      },
      "source": [
        "## Task 2\n",
        "Business Leader wants to find Top 3 Insurance Type where we are getting\n",
        "most insurance claims?"
      ]
    },
    {
      "cell_type": "code",
      "execution_count": null,
      "id": "b36b4106",
      "metadata": {
        "colab": {
          "base_uri": "https://localhost:8080/"
        },
        "id": "b36b4106",
        "outputId": "6f9a9a8c-4669-4f4f-90d3-b13813b25cac"
      },
      "outputs": [
        {
          "output_type": "execute_result",
          "data": {
            "text/plain": [
              "Mobile      1221\n",
              "Property    1218\n",
              "Travel      1210\n",
              "Name: INSURANCE_TYPE, dtype: int64"
            ]
          },
          "metadata": {},
          "execution_count": 15
        }
      ],
      "source": [
        "insurance_data['INSURANCE_TYPE'].value_counts()[:3]"
      ]
    },
    {
      "cell_type": "markdown",
      "id": "2ebcf234",
      "metadata": {
        "id": "2ebcf234"
      },
      "source": [
        "## Task 3\n",
        "Business Leader wants to find Top 5 States where we are getting most insurance claims\n",
        "for customer belonging to HIGH(H) risk segment?"
      ]
    },
    {
      "cell_type": "code",
      "execution_count": null,
      "id": "2b5a7d1f",
      "metadata": {
        "colab": {
          "base_uri": "https://localhost:8080/"
        },
        "id": "2b5a7d1f",
        "outputId": "4c8b69b2-7015-48d4-bd42-a9f3bf5367a4"
      },
      "outputs": [
        {
          "output_type": "execute_result",
          "data": {
            "text/plain": [
              "CA    106\n",
              "AZ     79\n",
              "FL     73\n",
              "DC     72\n",
              "TN     67\n",
              "Name: STATE, dtype: int64"
            ]
          },
          "metadata": {},
          "execution_count": 16
        }
      ],
      "source": [
        "insurance_data[insurance_data['RISK_SEGMENTATION']=='H'].STATE.value_counts()[:5]\n"
      ]
    },
    {
      "cell_type": "markdown",
      "id": "064a0a4b",
      "metadata": {
        "id": "064a0a4b"
      },
      "source": [
        "## Task 4\n",
        "Business wants to create a new variable “COLOCATION” which will have following values IF\n",
        "Customer State == Incident State == Agent Address State THEN 1 ELSE 0\n",
        "Find the mean of this new column"
      ]
    },
    {
      "cell_type": "code",
      "execution_count": null,
      "id": "4af2b772",
      "metadata": {
        "id": "4af2b772"
      },
      "outputs": [],
      "source": [
        "view['COLOCATION'] = (view['STATE_CUSTOMER']==view['INCIDENT_STATE'])&(view['INCIDENT_STATE']==view['STATE_AGENT'])"
      ]
    },
    {
      "cell_type": "code",
      "execution_count": null,
      "id": "055544eb",
      "metadata": {
        "colab": {
          "base_uri": "https://localhost:8080/"
        },
        "id": "055544eb",
        "outputId": "3dfc8044-7886-469b-ae15-a8e2445c280d"
      },
      "outputs": [
        {
          "output_type": "execute_result",
          "data": {
            "text/plain": [
              "0    7102\n",
              "1      33\n",
              "Name: COLOCATION, dtype: int64"
            ]
          },
          "metadata": {},
          "execution_count": 18
        }
      ],
      "source": [
        "view['COLOCATION']=view.COLOCATION.astype('int')\n",
        "view['COLOCATION'].value_counts()"
      ]
    },
    {
      "cell_type": "code",
      "execution_count": null,
      "id": "b5cf7501",
      "metadata": {
        "colab": {
          "base_uri": "https://localhost:8080/"
        },
        "id": "b5cf7501",
        "outputId": "670668a7-c6cb-49be-9b29-755b681e6a58"
      },
      "outputs": [
        {
          "output_type": "execute_result",
          "data": {
            "text/plain": [
              "0.0046250875963559914"
            ]
          },
          "metadata": {},
          "execution_count": 19
        }
      ],
      "source": [
        "view['COLOCATION'].mean()"
      ]
    },
    {
      "cell_type": "markdown",
      "id": "05cc7a0d",
      "metadata": {
        "id": "05cc7a0d"
      },
      "source": [
        "## Task 5\n",
        "Data entry error was detected in the data and you are required to correct it. If for any\n",
        "claim transaction “AUTHORITY_CONTACTED” is NOT “Police” and POLICE_AVAILABLE == 1\n",
        "Then Update “AUTHORITY_CONTACTED” to Police."
      ]
    },
    {
      "cell_type": "code",
      "execution_count": null,
      "id": "3ed79328",
      "metadata": {
        "colab": {
          "base_uri": "https://localhost:8080/"
        },
        "id": "3ed79328",
        "outputId": "b9313e88-7914-4cd0-e566-7e6574f54a0c"
      },
      "outputs": [
        {
          "output_type": "execute_result",
          "data": {
            "text/plain": [
              "Index(['TXN_DATE_TIME', 'TRANSACTION_ID', 'CUSTOMER_ID', 'POLICY_NUMBER',\n",
              "       'POLICY_EFF_DT', 'LOSS_DT', 'REPORT_DT', 'INSURANCE_TYPE',\n",
              "       'PREMIUM_AMOUNT', 'CLAIM_AMOUNT', 'CUSTOMER_NAME',\n",
              "       'ADDRESS_LINE1_CUSTOMER', 'ADDRESS_LINE2_CUSTOMER', 'CITY_CUSTOMER',\n",
              "       'STATE_CUSTOMER', 'POSTAL_CODE_CUSTOMER', 'SSN', 'MARITAL_STATUS',\n",
              "       'AGE', 'TENURE', 'EMPLOYMENT_STATUS', 'NO_OF_FAMILY_MEMBERS',\n",
              "       'RISK_SEGMENTATION', 'HOUSE_TYPE', 'SOCIAL_CLASS', 'ROUTING_NUMBER',\n",
              "       'ACCT_NUMBER', 'CUSTOMER_EDUCATION_LEVEL', 'CLAIM_STATUS',\n",
              "       'INCIDENT_SEVERITY', 'AUTHORITY_CONTACTED', 'ANY_INJURY',\n",
              "       'POLICE_REPORT_AVAILABLE', 'INCIDENT_STATE', 'INCIDENT_CITY',\n",
              "       'INCIDENT_HOUR_OF_THE_DAY', 'AGENT_ID', 'VENDOR_ID', 'AGENT_NAME',\n",
              "       'DATE_OF_JOINING', 'ADDRESS_LINE1_AGENT', 'ADDRESS_LINE2_AGENT',\n",
              "       'CITY_AGENT', 'STATE_AGENT', 'POSTAL_CODE_AGENT', 'EMP_ROUTING_NUMBER',\n",
              "       'EMP_ACCT_NUMBER', 'VENDOR_NAME', 'ADDRESS_LINE1', 'ADDRESS_LINE2',\n",
              "       'CITY', 'STATE', 'POSTAL_CODE', 'COLOCATION'],\n",
              "      dtype='object')"
            ]
          },
          "metadata": {},
          "execution_count": 25
        }
      ],
      "source": [
        "view.columns"
      ]
    },
    {
      "cell_type": "code",
      "execution_count": null,
      "id": "276eae7e",
      "metadata": {
        "colab": {
          "base_uri": "https://localhost:8080/"
        },
        "id": "276eae7e",
        "outputId": "a2522490-df7d-4670-8ed7-4e7ee3bffea0"
      },
      "outputs": [
        {
          "output_type": "execute_result",
          "data": {
            "text/plain": [
              "Ambulance    2926\n",
              "Police       2127\n",
              "None         1374\n",
              "Other         707\n",
              "Name: AUTHORITY_CONTACTED, dtype: int64"
            ]
          },
          "metadata": {},
          "execution_count": 20
        }
      ],
      "source": [
        "view['AUTHORITY_CONTACTED'].value_counts()"
      ]
    },
    {
      "cell_type": "code",
      "execution_count": null,
      "id": "7ac6a2a9",
      "metadata": {
        "id": "7ac6a2a9"
      },
      "outputs": [],
      "source": [
        "non_police = view[view['AUTHORITY_CONTACTED']!='Police']"
      ]
    },
    {
      "cell_type": "code",
      "execution_count": null,
      "id": "e21b5cf4",
      "metadata": {
        "id": "e21b5cf4"
      },
      "outputs": [],
      "source": [
        "update_rows = non_police[non_police['POLICE_REPORT_AVAILABLE']==1].index\n"
      ]
    },
    {
      "cell_type": "code",
      "execution_count": null,
      "id": "bb896116",
      "metadata": {
        "id": "bb896116"
      },
      "outputs": [],
      "source": [
        "view.loc[update_rows,'AUTHORITY_CONTACTED'] = 'Police'"
      ]
    },
    {
      "cell_type": "code",
      "execution_count": null,
      "id": "74573210",
      "metadata": {
        "colab": {
          "base_uri": "https://localhost:8080/",
          "height": 143
        },
        "id": "74573210",
        "outputId": "c001a64c-536a-4031-f4f0-34ecd82343ae"
      },
      "outputs": [
        {
          "output_type": "execute_result",
          "data": {
            "text/plain": [
              "Empty DataFrame\n",
              "Columns: [TXN_DATE_TIME, TRANSACTION_ID, CUSTOMER_ID, POLICY_NUMBER, POLICY_EFF_DT, LOSS_DT, REPORT_DT, INSURANCE_TYPE, PREMIUM_AMOUNT, CLAIM_AMOUNT, CUSTOMER_NAME, ADDRESS_LINE1_CUSTOMER, ADDRESS_LINE2_CUSTOMER, CITY_CUSTOMER, STATE_CUSTOMER, POSTAL_CODE_CUSTOMER, SSN, MARITAL_STATUS, AGE, TENURE, EMPLOYMENT_STATUS, NO_OF_FAMILY_MEMBERS, RISK_SEGMENTATION, HOUSE_TYPE, SOCIAL_CLASS, ROUTING_NUMBER, ACCT_NUMBER, CUSTOMER_EDUCATION_LEVEL, CLAIM_STATUS, INCIDENT_SEVERITY, AUTHORITY_CONTACTED, ANY_INJURY, POLICE_REPORT_AVAILABLE, INCIDENT_STATE, INCIDENT_CITY, INCIDENT_HOUR_OF_THE_DAY, AGENT_ID, VENDOR_ID, AGENT_NAME, DATE_OF_JOINING, ADDRESS_LINE1_AGENT, ADDRESS_LINE2_AGENT, CITY_AGENT, STATE_AGENT, POSTAL_CODE_AGENT, EMP_ROUTING_NUMBER, EMP_ACCT_NUMBER, VENDOR_NAME, ADDRESS_LINE1, ADDRESS_LINE2, CITY, STATE, POSTAL_CODE, COLOCATION]\n",
              "Index: []\n",
              "\n",
              "[0 rows x 54 columns]"
            ],
            "text/html": [
              "\n",
              "  <div id=\"df-c7ab4626-3077-4beb-a45c-911d104fed20\">\n",
              "    <div class=\"colab-df-container\">\n",
              "      <div>\n",
              "<style scoped>\n",
              "    .dataframe tbody tr th:only-of-type {\n",
              "        vertical-align: middle;\n",
              "    }\n",
              "\n",
              "    .dataframe tbody tr th {\n",
              "        vertical-align: top;\n",
              "    }\n",
              "\n",
              "    .dataframe thead th {\n",
              "        text-align: right;\n",
              "    }\n",
              "</style>\n",
              "<table border=\"1\" class=\"dataframe\">\n",
              "  <thead>\n",
              "    <tr style=\"text-align: right;\">\n",
              "      <th></th>\n",
              "      <th>TXN_DATE_TIME</th>\n",
              "      <th>TRANSACTION_ID</th>\n",
              "      <th>CUSTOMER_ID</th>\n",
              "      <th>POLICY_NUMBER</th>\n",
              "      <th>POLICY_EFF_DT</th>\n",
              "      <th>LOSS_DT</th>\n",
              "      <th>REPORT_DT</th>\n",
              "      <th>INSURANCE_TYPE</th>\n",
              "      <th>PREMIUM_AMOUNT</th>\n",
              "      <th>CLAIM_AMOUNT</th>\n",
              "      <th>...</th>\n",
              "      <th>POSTAL_CODE_AGENT</th>\n",
              "      <th>EMP_ROUTING_NUMBER</th>\n",
              "      <th>EMP_ACCT_NUMBER</th>\n",
              "      <th>VENDOR_NAME</th>\n",
              "      <th>ADDRESS_LINE1</th>\n",
              "      <th>ADDRESS_LINE2</th>\n",
              "      <th>CITY</th>\n",
              "      <th>STATE</th>\n",
              "      <th>POSTAL_CODE</th>\n",
              "      <th>COLOCATION</th>\n",
              "    </tr>\n",
              "  </thead>\n",
              "  <tbody>\n",
              "  </tbody>\n",
              "</table>\n",
              "<p>0 rows × 54 columns</p>\n",
              "</div>\n",
              "      <button class=\"colab-df-convert\" onclick=\"convertToInteractive('df-c7ab4626-3077-4beb-a45c-911d104fed20')\"\n",
              "              title=\"Convert this dataframe to an interactive table.\"\n",
              "              style=\"display:none;\">\n",
              "        \n",
              "  <svg xmlns=\"http://www.w3.org/2000/svg\" height=\"24px\"viewBox=\"0 0 24 24\"\n",
              "       width=\"24px\">\n",
              "    <path d=\"M0 0h24v24H0V0z\" fill=\"none\"/>\n",
              "    <path d=\"M18.56 5.44l.94 2.06.94-2.06 2.06-.94-2.06-.94-.94-2.06-.94 2.06-2.06.94zm-11 1L8.5 8.5l.94-2.06 2.06-.94-2.06-.94L8.5 2.5l-.94 2.06-2.06.94zm10 10l.94 2.06.94-2.06 2.06-.94-2.06-.94-.94-2.06-.94 2.06-2.06.94z\"/><path d=\"M17.41 7.96l-1.37-1.37c-.4-.4-.92-.59-1.43-.59-.52 0-1.04.2-1.43.59L10.3 9.45l-7.72 7.72c-.78.78-.78 2.05 0 2.83L4 21.41c.39.39.9.59 1.41.59.51 0 1.02-.2 1.41-.59l7.78-7.78 2.81-2.81c.8-.78.8-2.07 0-2.86zM5.41 20L4 18.59l7.72-7.72 1.47 1.35L5.41 20z\"/>\n",
              "  </svg>\n",
              "      </button>\n",
              "      \n",
              "  <style>\n",
              "    .colab-df-container {\n",
              "      display:flex;\n",
              "      flex-wrap:wrap;\n",
              "      gap: 12px;\n",
              "    }\n",
              "\n",
              "    .colab-df-convert {\n",
              "      background-color: #E8F0FE;\n",
              "      border: none;\n",
              "      border-radius: 50%;\n",
              "      cursor: pointer;\n",
              "      display: none;\n",
              "      fill: #1967D2;\n",
              "      height: 32px;\n",
              "      padding: 0 0 0 0;\n",
              "      width: 32px;\n",
              "    }\n",
              "\n",
              "    .colab-df-convert:hover {\n",
              "      background-color: #E2EBFA;\n",
              "      box-shadow: 0px 1px 2px rgba(60, 64, 67, 0.3), 0px 1px 3px 1px rgba(60, 64, 67, 0.15);\n",
              "      fill: #174EA6;\n",
              "    }\n",
              "\n",
              "    [theme=dark] .colab-df-convert {\n",
              "      background-color: #3B4455;\n",
              "      fill: #D2E3FC;\n",
              "    }\n",
              "\n",
              "    [theme=dark] .colab-df-convert:hover {\n",
              "      background-color: #434B5C;\n",
              "      box-shadow: 0px 1px 3px 1px rgba(0, 0, 0, 0.15);\n",
              "      filter: drop-shadow(0px 1px 2px rgba(0, 0, 0, 0.3));\n",
              "      fill: #FFFFFF;\n",
              "    }\n",
              "  </style>\n",
              "\n",
              "      <script>\n",
              "        const buttonEl =\n",
              "          document.querySelector('#df-c7ab4626-3077-4beb-a45c-911d104fed20 button.colab-df-convert');\n",
              "        buttonEl.style.display =\n",
              "          google.colab.kernel.accessAllowed ? 'block' : 'none';\n",
              "\n",
              "        async function convertToInteractive(key) {\n",
              "          const element = document.querySelector('#df-c7ab4626-3077-4beb-a45c-911d104fed20');\n",
              "          const dataTable =\n",
              "            await google.colab.kernel.invokeFunction('convertToInteractive',\n",
              "                                                     [key], {});\n",
              "          if (!dataTable) return;\n",
              "\n",
              "          const docLinkHtml = 'Like what you see? Visit the ' +\n",
              "            '<a target=\"_blank\" href=https://colab.research.google.com/notebooks/data_table.ipynb>data table notebook</a>'\n",
              "            + ' to learn more about interactive tables.';\n",
              "          element.innerHTML = '';\n",
              "          dataTable['output_type'] = 'display_data';\n",
              "          await google.colab.output.renderOutput(dataTable, element);\n",
              "          const docLink = document.createElement('div');\n",
              "          docLink.innerHTML = docLinkHtml;\n",
              "          element.appendChild(docLink);\n",
              "        }\n",
              "      </script>\n",
              "    </div>\n",
              "  </div>\n",
              "  "
            ]
          },
          "metadata": {},
          "execution_count": 24
        }
      ],
      "source": [
        "view[(view['POLICE_REPORT_AVAILABLE']==1)&(view['AUTHORITY_CONTACTED']!='Police')]\n"
      ]
    },
    {
      "cell_type": "markdown",
      "id": "1a5a0bef",
      "metadata": {
        "id": "1a5a0bef"
      },
      "source": [
        "## Task 6\n",
        "Business wants to check the Claim Amount for deviation for each transaction, they would\n",
        "like you to calculate as follow\n",
        "CLAIM_DEVIATION = AVG_CLAIM_AMOUNT_FOR_LAST_30DAYS (same insurance type)\n",
        "/ CURRENT_CLAIM_AMOUNT\n",
        "If the value < 0.5 THEN CLAIM_DEVIATION = 1 ELSE 0\n",
        "If there is less than 30 days of transaction history THEN\n",
        "-1 Note: LAST_30DAYS does not include current day"
      ]
    },
    {
      "cell_type": "code",
      "execution_count": null,
      "id": "ffd97993",
      "metadata": {
        "colab": {
          "base_uri": "https://localhost:8080/",
          "height": 35
        },
        "id": "ffd97993",
        "outputId": "86dbfbe5-7ce2-40c2-c05f-a436aac0073d"
      },
      "outputs": [
        {
          "output_type": "execute_result",
          "data": {
            "text/plain": [
              "'2021-03-09 00:00:00'"
            ],
            "application/vnd.google.colaboratory.intrinsic+json": {
              "type": "string"
            }
          },
          "metadata": {},
          "execution_count": 26
        }
      ],
      "source": [
        "view.TXN_DATE_TIME.max()\n"
      ]
    },
    {
      "cell_type": "code",
      "execution_count": null,
      "id": "a7dcb690",
      "metadata": {
        "id": "a7dcb690"
      },
      "outputs": [],
      "source": [
        "curr_date = pd.to_datetime('2021-06-30')\n"
      ]
    },
    {
      "cell_type": "code",
      "execution_count": null,
      "id": "4fd62dda",
      "metadata": {
        "id": "4fd62dda"
      },
      "outputs": [],
      "source": [
        "view['TXN_DATE_TIME'] = pd.to_datetime(view['TXN_DATE_TIME'],errors='coerce')"
      ]
    },
    {
      "cell_type": "code",
      "execution_count": null,
      "id": "babefd0c",
      "metadata": {
        "id": "babefd0c"
      },
      "outputs": [],
      "source": [
        "last_30 = view.loc[(view['TXN_DATE_TIME'] > '2021-05-30') & (view['TXN_DATE_TIME'] < '2021-06-30')]  \n"
      ]
    },
    {
      "cell_type": "code",
      "execution_count": null,
      "id": "fa297294",
      "metadata": {
        "id": "fa297294"
      },
      "outputs": [],
      "source": [
        "average_claim = last_30.groupby('INSURANCE_TYPE').mean()['CLAIM_AMOUNT'].to_dict()\n"
      ]
    },
    {
      "cell_type": "code",
      "execution_count": null,
      "id": "0275d149",
      "metadata": {
        "id": "0275d149"
      },
      "outputs": [],
      "source": [
        "def Claim_deviation(row):\n",
        "    if (curr_date - row['TXN_DATE_TIME'])<pd.Timedelta(days=30):\n",
        "        return -1\n",
        "    claim_deviation = average_claim[row['INSURANCE_TYPE']] / row['CLAIM_AMOUNT']\n",
        "    if claim_deviation < 0.5:\n",
        "        return 1\n",
        "    else:\n",
        "        return 0\n"
      ]
    },
    {
      "cell_type": "code",
      "source": [
        "view['CLAIM_DEVIATION']=view.apply(Claim_deviation,axis=1)\n",
        "view.CLAIM_DEVIATION.value_counts()"
      ],
      "metadata": {
        "colab": {
          "base_uri": "https://localhost:8080/",
          "height": 328
        },
        "id": "stVtb9s8rZHM",
        "outputId": "c0301d45-890e-4cb5-d381-78fd8ffb6580"
      },
      "id": "stVtb9s8rZHM",
      "execution_count": null,
      "outputs": [
        {
          "output_type": "error",
          "ename": "KeyError",
          "evalue": "ignored",
          "traceback": [
            "\u001b[0;31m---------------------------------------------------------------------------\u001b[0m",
            "\u001b[0;31mKeyError\u001b[0m                                  Traceback (most recent call last)",
            "\u001b[0;32m<ipython-input-111-5079925817e7>\u001b[0m in \u001b[0;36m<module>\u001b[0;34m()\u001b[0m\n\u001b[0;32m----> 1\u001b[0;31m \u001b[0mview\u001b[0m\u001b[0;34m[\u001b[0m\u001b[0;34m'CLAIM_DEVIATION'\u001b[0m\u001b[0;34m]\u001b[0m\u001b[0;34m=\u001b[0m\u001b[0mview\u001b[0m\u001b[0;34m.\u001b[0m\u001b[0mapply\u001b[0m\u001b[0;34m(\u001b[0m\u001b[0mClaim_deviation\u001b[0m\u001b[0;34m,\u001b[0m\u001b[0maxis\u001b[0m\u001b[0;34m=\u001b[0m\u001b[0;36m1\u001b[0m\u001b[0;34m)\u001b[0m\u001b[0;34m\u001b[0m\u001b[0;34m\u001b[0m\u001b[0m\n\u001b[0m\u001b[1;32m      2\u001b[0m \u001b[0mview\u001b[0m\u001b[0;34m.\u001b[0m\u001b[0mCLAIM_DEVIATION\u001b[0m\u001b[0;34m.\u001b[0m\u001b[0mvalue_counts\u001b[0m\u001b[0;34m(\u001b[0m\u001b[0;34m)\u001b[0m\u001b[0;34m\u001b[0m\u001b[0;34m\u001b[0m\u001b[0m\n",
            "\u001b[0;32m/usr/local/lib/python3.7/dist-packages/pandas/core/frame.py\u001b[0m in \u001b[0;36mapply\u001b[0;34m(self, func, axis, raw, result_type, args, **kwargs)\u001b[0m\n\u001b[1;32m   8738\u001b[0m             \u001b[0mkwargs\u001b[0m\u001b[0;34m=\u001b[0m\u001b[0mkwargs\u001b[0m\u001b[0;34m,\u001b[0m\u001b[0;34m\u001b[0m\u001b[0;34m\u001b[0m\u001b[0m\n\u001b[1;32m   8739\u001b[0m         )\n\u001b[0;32m-> 8740\u001b[0;31m         \u001b[0;32mreturn\u001b[0m \u001b[0mop\u001b[0m\u001b[0;34m.\u001b[0m\u001b[0mapply\u001b[0m\u001b[0;34m(\u001b[0m\u001b[0;34m)\u001b[0m\u001b[0;34m\u001b[0m\u001b[0;34m\u001b[0m\u001b[0m\n\u001b[0m\u001b[1;32m   8741\u001b[0m \u001b[0;34m\u001b[0m\u001b[0m\n\u001b[1;32m   8742\u001b[0m     def applymap(\n",
            "\u001b[0;32m/usr/local/lib/python3.7/dist-packages/pandas/core/apply.py\u001b[0m in \u001b[0;36mapply\u001b[0;34m(self)\u001b[0m\n\u001b[1;32m    686\u001b[0m             \u001b[0;32mreturn\u001b[0m \u001b[0mself\u001b[0m\u001b[0;34m.\u001b[0m\u001b[0mapply_raw\u001b[0m\u001b[0;34m(\u001b[0m\u001b[0;34m)\u001b[0m\u001b[0;34m\u001b[0m\u001b[0;34m\u001b[0m\u001b[0m\n\u001b[1;32m    687\u001b[0m \u001b[0;34m\u001b[0m\u001b[0m\n\u001b[0;32m--> 688\u001b[0;31m         \u001b[0;32mreturn\u001b[0m \u001b[0mself\u001b[0m\u001b[0;34m.\u001b[0m\u001b[0mapply_standard\u001b[0m\u001b[0;34m(\u001b[0m\u001b[0;34m)\u001b[0m\u001b[0;34m\u001b[0m\u001b[0;34m\u001b[0m\u001b[0m\n\u001b[0m\u001b[1;32m    689\u001b[0m \u001b[0;34m\u001b[0m\u001b[0m\n\u001b[1;32m    690\u001b[0m     \u001b[0;32mdef\u001b[0m \u001b[0magg\u001b[0m\u001b[0;34m(\u001b[0m\u001b[0mself\u001b[0m\u001b[0;34m)\u001b[0m\u001b[0;34m:\u001b[0m\u001b[0;34m\u001b[0m\u001b[0;34m\u001b[0m\u001b[0m\n",
            "\u001b[0;32m/usr/local/lib/python3.7/dist-packages/pandas/core/apply.py\u001b[0m in \u001b[0;36mapply_standard\u001b[0;34m(self)\u001b[0m\n\u001b[1;32m    810\u001b[0m \u001b[0;34m\u001b[0m\u001b[0m\n\u001b[1;32m    811\u001b[0m     \u001b[0;32mdef\u001b[0m \u001b[0mapply_standard\u001b[0m\u001b[0;34m(\u001b[0m\u001b[0mself\u001b[0m\u001b[0;34m)\u001b[0m\u001b[0;34m:\u001b[0m\u001b[0;34m\u001b[0m\u001b[0;34m\u001b[0m\u001b[0m\n\u001b[0;32m--> 812\u001b[0;31m         \u001b[0mresults\u001b[0m\u001b[0;34m,\u001b[0m \u001b[0mres_index\u001b[0m \u001b[0;34m=\u001b[0m \u001b[0mself\u001b[0m\u001b[0;34m.\u001b[0m\u001b[0mapply_series_generator\u001b[0m\u001b[0;34m(\u001b[0m\u001b[0;34m)\u001b[0m\u001b[0;34m\u001b[0m\u001b[0;34m\u001b[0m\u001b[0m\n\u001b[0m\u001b[1;32m    813\u001b[0m \u001b[0;34m\u001b[0m\u001b[0m\n\u001b[1;32m    814\u001b[0m         \u001b[0;31m# wrap results\u001b[0m\u001b[0;34m\u001b[0m\u001b[0;34m\u001b[0m\u001b[0;34m\u001b[0m\u001b[0m\n",
            "\u001b[0;32m/usr/local/lib/python3.7/dist-packages/pandas/core/apply.py\u001b[0m in \u001b[0;36mapply_series_generator\u001b[0;34m(self)\u001b[0m\n\u001b[1;32m    826\u001b[0m             \u001b[0;32mfor\u001b[0m \u001b[0mi\u001b[0m\u001b[0;34m,\u001b[0m \u001b[0mv\u001b[0m \u001b[0;32min\u001b[0m \u001b[0menumerate\u001b[0m\u001b[0;34m(\u001b[0m\u001b[0mseries_gen\u001b[0m\u001b[0;34m)\u001b[0m\u001b[0;34m:\u001b[0m\u001b[0;34m\u001b[0m\u001b[0;34m\u001b[0m\u001b[0m\n\u001b[1;32m    827\u001b[0m                 \u001b[0;31m# ignore SettingWithCopy here in case the user mutates\u001b[0m\u001b[0;34m\u001b[0m\u001b[0;34m\u001b[0m\u001b[0;34m\u001b[0m\u001b[0m\n\u001b[0;32m--> 828\u001b[0;31m                 \u001b[0mresults\u001b[0m\u001b[0;34m[\u001b[0m\u001b[0mi\u001b[0m\u001b[0;34m]\u001b[0m \u001b[0;34m=\u001b[0m \u001b[0mself\u001b[0m\u001b[0;34m.\u001b[0m\u001b[0mf\u001b[0m\u001b[0;34m(\u001b[0m\u001b[0mv\u001b[0m\u001b[0;34m)\u001b[0m\u001b[0;34m\u001b[0m\u001b[0;34m\u001b[0m\u001b[0m\n\u001b[0m\u001b[1;32m    829\u001b[0m                 \u001b[0;32mif\u001b[0m \u001b[0misinstance\u001b[0m\u001b[0;34m(\u001b[0m\u001b[0mresults\u001b[0m\u001b[0;34m[\u001b[0m\u001b[0mi\u001b[0m\u001b[0;34m]\u001b[0m\u001b[0;34m,\u001b[0m \u001b[0mABCSeries\u001b[0m\u001b[0;34m)\u001b[0m\u001b[0;34m:\u001b[0m\u001b[0;34m\u001b[0m\u001b[0;34m\u001b[0m\u001b[0m\n\u001b[1;32m    830\u001b[0m                     \u001b[0;31m# If we have a view on v, we need to make a copy because\u001b[0m\u001b[0;34m\u001b[0m\u001b[0;34m\u001b[0m\u001b[0;34m\u001b[0m\u001b[0m\n",
            "\u001b[0;32m<ipython-input-105-f8821e7c9af9>\u001b[0m in \u001b[0;36mClaim_deviation\u001b[0;34m(row)\u001b[0m\n\u001b[1;32m      2\u001b[0m     \u001b[0;32mif\u001b[0m \u001b[0;34m(\u001b[0m\u001b[0mcurr_date\u001b[0m \u001b[0;34m-\u001b[0m \u001b[0mrow\u001b[0m\u001b[0;34m[\u001b[0m\u001b[0;34m'TXN_DATE_TIME'\u001b[0m\u001b[0;34m]\u001b[0m\u001b[0;34m)\u001b[0m\u001b[0;34m<\u001b[0m\u001b[0mpd\u001b[0m\u001b[0;34m.\u001b[0m\u001b[0mTimedelta\u001b[0m\u001b[0;34m(\u001b[0m\u001b[0mdays\u001b[0m\u001b[0;34m=\u001b[0m\u001b[0;36m30\u001b[0m\u001b[0;34m)\u001b[0m\u001b[0;34m:\u001b[0m\u001b[0;34m\u001b[0m\u001b[0;34m\u001b[0m\u001b[0m\n\u001b[1;32m      3\u001b[0m         \u001b[0;32mreturn\u001b[0m \u001b[0;34m-\u001b[0m\u001b[0;36m1\u001b[0m\u001b[0;34m\u001b[0m\u001b[0;34m\u001b[0m\u001b[0m\n\u001b[0;32m----> 4\u001b[0;31m     \u001b[0mclaim_deviation\u001b[0m \u001b[0;34m=\u001b[0m \u001b[0maverage_claim\u001b[0m\u001b[0;34m[\u001b[0m\u001b[0mrow\u001b[0m\u001b[0;34m[\u001b[0m\u001b[0;34m'INSURANCE_TYPE'\u001b[0m\u001b[0;34m]\u001b[0m\u001b[0;34m]\u001b[0m \u001b[0;34m/\u001b[0m \u001b[0mrow\u001b[0m\u001b[0;34m[\u001b[0m\u001b[0;34m'CLAIM_AMOUNT'\u001b[0m\u001b[0;34m]\u001b[0m\u001b[0;34m\u001b[0m\u001b[0;34m\u001b[0m\u001b[0m\n\u001b[0m\u001b[1;32m      5\u001b[0m     \u001b[0;32mif\u001b[0m \u001b[0mclaim_deviation\u001b[0m \u001b[0;34m<\u001b[0m \u001b[0;36m0.5\u001b[0m\u001b[0;34m:\u001b[0m\u001b[0;34m\u001b[0m\u001b[0;34m\u001b[0m\u001b[0m\n\u001b[1;32m      6\u001b[0m         \u001b[0;32mreturn\u001b[0m \u001b[0;36m1\u001b[0m\u001b[0;34m\u001b[0m\u001b[0;34m\u001b[0m\u001b[0m\n",
            "\u001b[0;31mKeyError\u001b[0m: 'Health'"
          ]
        }
      ]
    },
    {
      "cell_type": "markdown",
      "id": "54a03e36",
      "metadata": {
        "id": "54a03e36"
      },
      "source": [
        "## Task 7\n",
        "Find All Agents who have worked on more than 2 types of Insurance Claims. Sort them by\n",
        "Total Claim Amount Approved under them in descending order"
      ]
    },
    {
      "cell_type": "code",
      "execution_count": null,
      "id": "23fa962e",
      "metadata": {
        "id": "23fa962e"
      },
      "outputs": [],
      "source": [
        "type_count = view.groupby('AGENT_ID')['INSURANCE_TYPE'].nunique()"
      ]
    },
    {
      "cell_type": "code",
      "execution_count": null,
      "id": "dd787e9b",
      "metadata": {
        "id": "dd787e9b"
      },
      "outputs": [],
      "source": [
        "agent_insurance_types = type_count>2\n"
      ]
    },
    {
      "cell_type": "code",
      "execution_count": null,
      "id": "45de1d18",
      "metadata": {
        "id": "45de1d18"
      },
      "outputs": [],
      "source": [
        "multi_type_agents = agent_insurance_types[agent_insurance_types].index\n"
      ]
    },
    {
      "cell_type": "code",
      "execution_count": null,
      "id": "9fcc47c4",
      "metadata": {
        "id": "9fcc47c4"
      },
      "outputs": [],
      "source": [
        "Top_agents = view.groupby(['AGENT_ID','AGENT_NAME']).sum().loc[multi_type_agents][['CLAIM_AMOUNT']].sort_values('CLAIM_AMOUNT',ascending=False)"
      ]
    },
    {
      "cell_type": "code",
      "execution_count": null,
      "id": "7b328181",
      "metadata": {
        "colab": {
          "base_uri": "https://localhost:8080/",
          "height": 455
        },
        "id": "7b328181",
        "outputId": "84946a6a-eac7-4d8f-f0bc-c3ae062858b1"
      },
      "outputs": [
        {
          "output_type": "execute_result",
          "data": {
            "text/plain": [
              "                               CLAIM_AMOUNT\n",
              "AGENT_ID   AGENT_NAME                      \n",
              "AGENT00807 Don Filkins             528000.0\n",
              "AGENT00679 Clara Barnett           409000.0\n",
              "AGENT00771 Roger Burns             332100.0\n",
              "AGENT00729 Samuel Tolman           329100.0\n",
              "AGENT00633 Clarence Mcclendon      317000.0\n",
              "...                                     ...\n",
              "AGENT00314 Rosemary Turman           8100.0\n",
              "AGENT00272 Jordon Morris             6800.0\n",
              "AGENT00884 Dawn Krans                6500.0\n",
              "AGENT00170 Kyle Allen                6200.0\n",
              "AGENT00604 Thelma Salinas            5500.0\n",
              "\n",
              "[1055 rows x 1 columns]"
            ],
            "text/html": [
              "\n",
              "  <div id=\"df-d0296ccf-1e03-44f4-a9cc-c7ad119653a1\">\n",
              "    <div class=\"colab-df-container\">\n",
              "      <div>\n",
              "<style scoped>\n",
              "    .dataframe tbody tr th:only-of-type {\n",
              "        vertical-align: middle;\n",
              "    }\n",
              "\n",
              "    .dataframe tbody tr th {\n",
              "        vertical-align: top;\n",
              "    }\n",
              "\n",
              "    .dataframe thead th {\n",
              "        text-align: right;\n",
              "    }\n",
              "</style>\n",
              "<table border=\"1\" class=\"dataframe\">\n",
              "  <thead>\n",
              "    <tr style=\"text-align: right;\">\n",
              "      <th></th>\n",
              "      <th></th>\n",
              "      <th>CLAIM_AMOUNT</th>\n",
              "    </tr>\n",
              "    <tr>\n",
              "      <th>AGENT_ID</th>\n",
              "      <th>AGENT_NAME</th>\n",
              "      <th></th>\n",
              "    </tr>\n",
              "  </thead>\n",
              "  <tbody>\n",
              "    <tr>\n",
              "      <th>AGENT00807</th>\n",
              "      <th>Don Filkins</th>\n",
              "      <td>528000.0</td>\n",
              "    </tr>\n",
              "    <tr>\n",
              "      <th>AGENT00679</th>\n",
              "      <th>Clara Barnett</th>\n",
              "      <td>409000.0</td>\n",
              "    </tr>\n",
              "    <tr>\n",
              "      <th>AGENT00771</th>\n",
              "      <th>Roger Burns</th>\n",
              "      <td>332100.0</td>\n",
              "    </tr>\n",
              "    <tr>\n",
              "      <th>AGENT00729</th>\n",
              "      <th>Samuel Tolman</th>\n",
              "      <td>329100.0</td>\n",
              "    </tr>\n",
              "    <tr>\n",
              "      <th>AGENT00633</th>\n",
              "      <th>Clarence Mcclendon</th>\n",
              "      <td>317000.0</td>\n",
              "    </tr>\n",
              "    <tr>\n",
              "      <th>...</th>\n",
              "      <th>...</th>\n",
              "      <td>...</td>\n",
              "    </tr>\n",
              "    <tr>\n",
              "      <th>AGENT00314</th>\n",
              "      <th>Rosemary Turman</th>\n",
              "      <td>8100.0</td>\n",
              "    </tr>\n",
              "    <tr>\n",
              "      <th>AGENT00272</th>\n",
              "      <th>Jordon Morris</th>\n",
              "      <td>6800.0</td>\n",
              "    </tr>\n",
              "    <tr>\n",
              "      <th>AGENT00884</th>\n",
              "      <th>Dawn Krans</th>\n",
              "      <td>6500.0</td>\n",
              "    </tr>\n",
              "    <tr>\n",
              "      <th>AGENT00170</th>\n",
              "      <th>Kyle Allen</th>\n",
              "      <td>6200.0</td>\n",
              "    </tr>\n",
              "    <tr>\n",
              "      <th>AGENT00604</th>\n",
              "      <th>Thelma Salinas</th>\n",
              "      <td>5500.0</td>\n",
              "    </tr>\n",
              "  </tbody>\n",
              "</table>\n",
              "<p>1055 rows × 1 columns</p>\n",
              "</div>\n",
              "      <button class=\"colab-df-convert\" onclick=\"convertToInteractive('df-d0296ccf-1e03-44f4-a9cc-c7ad119653a1')\"\n",
              "              title=\"Convert this dataframe to an interactive table.\"\n",
              "              style=\"display:none;\">\n",
              "        \n",
              "  <svg xmlns=\"http://www.w3.org/2000/svg\" height=\"24px\"viewBox=\"0 0 24 24\"\n",
              "       width=\"24px\">\n",
              "    <path d=\"M0 0h24v24H0V0z\" fill=\"none\"/>\n",
              "    <path d=\"M18.56 5.44l.94 2.06.94-2.06 2.06-.94-2.06-.94-.94-2.06-.94 2.06-2.06.94zm-11 1L8.5 8.5l.94-2.06 2.06-.94-2.06-.94L8.5 2.5l-.94 2.06-2.06.94zm10 10l.94 2.06.94-2.06 2.06-.94-2.06-.94-.94-2.06-.94 2.06-2.06.94z\"/><path d=\"M17.41 7.96l-1.37-1.37c-.4-.4-.92-.59-1.43-.59-.52 0-1.04.2-1.43.59L10.3 9.45l-7.72 7.72c-.78.78-.78 2.05 0 2.83L4 21.41c.39.39.9.59 1.41.59.51 0 1.02-.2 1.41-.59l7.78-7.78 2.81-2.81c.8-.78.8-2.07 0-2.86zM5.41 20L4 18.59l7.72-7.72 1.47 1.35L5.41 20z\"/>\n",
              "  </svg>\n",
              "      </button>\n",
              "      \n",
              "  <style>\n",
              "    .colab-df-container {\n",
              "      display:flex;\n",
              "      flex-wrap:wrap;\n",
              "      gap: 12px;\n",
              "    }\n",
              "\n",
              "    .colab-df-convert {\n",
              "      background-color: #E8F0FE;\n",
              "      border: none;\n",
              "      border-radius: 50%;\n",
              "      cursor: pointer;\n",
              "      display: none;\n",
              "      fill: #1967D2;\n",
              "      height: 32px;\n",
              "      padding: 0 0 0 0;\n",
              "      width: 32px;\n",
              "    }\n",
              "\n",
              "    .colab-df-convert:hover {\n",
              "      background-color: #E2EBFA;\n",
              "      box-shadow: 0px 1px 2px rgba(60, 64, 67, 0.3), 0px 1px 3px 1px rgba(60, 64, 67, 0.15);\n",
              "      fill: #174EA6;\n",
              "    }\n",
              "\n",
              "    [theme=dark] .colab-df-convert {\n",
              "      background-color: #3B4455;\n",
              "      fill: #D2E3FC;\n",
              "    }\n",
              "\n",
              "    [theme=dark] .colab-df-convert:hover {\n",
              "      background-color: #434B5C;\n",
              "      box-shadow: 0px 1px 3px 1px rgba(0, 0, 0, 0.15);\n",
              "      filter: drop-shadow(0px 1px 2px rgba(0, 0, 0, 0.3));\n",
              "      fill: #FFFFFF;\n",
              "    }\n",
              "  </style>\n",
              "\n",
              "      <script>\n",
              "        const buttonEl =\n",
              "          document.querySelector('#df-d0296ccf-1e03-44f4-a9cc-c7ad119653a1 button.colab-df-convert');\n",
              "        buttonEl.style.display =\n",
              "          google.colab.kernel.accessAllowed ? 'block' : 'none';\n",
              "\n",
              "        async function convertToInteractive(key) {\n",
              "          const element = document.querySelector('#df-d0296ccf-1e03-44f4-a9cc-c7ad119653a1');\n",
              "          const dataTable =\n",
              "            await google.colab.kernel.invokeFunction('convertToInteractive',\n",
              "                                                     [key], {});\n",
              "          if (!dataTable) return;\n",
              "\n",
              "          const docLinkHtml = 'Like what you see? Visit the ' +\n",
              "            '<a target=\"_blank\" href=https://colab.research.google.com/notebooks/data_table.ipynb>data table notebook</a>'\n",
              "            + ' to learn more about interactive tables.';\n",
              "          element.innerHTML = '';\n",
              "          dataTable['output_type'] = 'display_data';\n",
              "          await google.colab.output.renderOutput(dataTable, element);\n",
              "          const docLink = document.createElement('div');\n",
              "          docLink.innerHTML = docLinkHtml;\n",
              "          element.appendChild(docLink);\n",
              "        }\n",
              "      </script>\n",
              "    </div>\n",
              "  </div>\n",
              "  "
            ]
          },
          "metadata": {},
          "execution_count": 60
        }
      ],
      "source": [
        "Top_agents\n"
      ]
    },
    {
      "cell_type": "code",
      "execution_count": null,
      "id": "1a10d01b",
      "metadata": {
        "colab": {
          "base_uri": "https://localhost:8080/",
          "height": 455
        },
        "id": "1a10d01b",
        "outputId": "d60869a4-c4a5-49b5-e76a-8d3c2c4dcc7d"
      },
      "outputs": [
        {
          "output_type": "execute_result",
          "data": {
            "text/plain": [
              "                               CLAIM_AMOUNT  INSURANCE_TYPE\n",
              "AGENT_ID   AGENT_NAME                                      \n",
              "AGENT00807 Don Filkins             528000.0               5\n",
              "AGENT00679 Clara Barnett           409000.0               4\n",
              "AGENT00771 Roger Burns             332100.0               4\n",
              "AGENT00729 Samuel Tolman           329100.0               5\n",
              "AGENT00633 Clarence Mcclendon      317000.0               5\n",
              "...                                     ...             ...\n",
              "AGENT00314 Rosemary Turman           8100.0               3\n",
              "AGENT00272 Jordon Morris             6800.0               3\n",
              "AGENT00884 Dawn Krans                6500.0               3\n",
              "AGENT00170 Kyle Allen                6200.0               3\n",
              "AGENT00604 Thelma Salinas            5500.0               3\n",
              "\n",
              "[1055 rows x 2 columns]"
            ],
            "text/html": [
              "\n",
              "  <div id=\"df-7cddae5f-56e7-47f1-a64e-c04726020ae4\">\n",
              "    <div class=\"colab-df-container\">\n",
              "      <div>\n",
              "<style scoped>\n",
              "    .dataframe tbody tr th:only-of-type {\n",
              "        vertical-align: middle;\n",
              "    }\n",
              "\n",
              "    .dataframe tbody tr th {\n",
              "        vertical-align: top;\n",
              "    }\n",
              "\n",
              "    .dataframe thead th {\n",
              "        text-align: right;\n",
              "    }\n",
              "</style>\n",
              "<table border=\"1\" class=\"dataframe\">\n",
              "  <thead>\n",
              "    <tr style=\"text-align: right;\">\n",
              "      <th></th>\n",
              "      <th></th>\n",
              "      <th>CLAIM_AMOUNT</th>\n",
              "      <th>INSURANCE_TYPE</th>\n",
              "    </tr>\n",
              "    <tr>\n",
              "      <th>AGENT_ID</th>\n",
              "      <th>AGENT_NAME</th>\n",
              "      <th></th>\n",
              "      <th></th>\n",
              "    </tr>\n",
              "  </thead>\n",
              "  <tbody>\n",
              "    <tr>\n",
              "      <th>AGENT00807</th>\n",
              "      <th>Don Filkins</th>\n",
              "      <td>528000.0</td>\n",
              "      <td>5</td>\n",
              "    </tr>\n",
              "    <tr>\n",
              "      <th>AGENT00679</th>\n",
              "      <th>Clara Barnett</th>\n",
              "      <td>409000.0</td>\n",
              "      <td>4</td>\n",
              "    </tr>\n",
              "    <tr>\n",
              "      <th>AGENT00771</th>\n",
              "      <th>Roger Burns</th>\n",
              "      <td>332100.0</td>\n",
              "      <td>4</td>\n",
              "    </tr>\n",
              "    <tr>\n",
              "      <th>AGENT00729</th>\n",
              "      <th>Samuel Tolman</th>\n",
              "      <td>329100.0</td>\n",
              "      <td>5</td>\n",
              "    </tr>\n",
              "    <tr>\n",
              "      <th>AGENT00633</th>\n",
              "      <th>Clarence Mcclendon</th>\n",
              "      <td>317000.0</td>\n",
              "      <td>5</td>\n",
              "    </tr>\n",
              "    <tr>\n",
              "      <th>...</th>\n",
              "      <th>...</th>\n",
              "      <td>...</td>\n",
              "      <td>...</td>\n",
              "    </tr>\n",
              "    <tr>\n",
              "      <th>AGENT00314</th>\n",
              "      <th>Rosemary Turman</th>\n",
              "      <td>8100.0</td>\n",
              "      <td>3</td>\n",
              "    </tr>\n",
              "    <tr>\n",
              "      <th>AGENT00272</th>\n",
              "      <th>Jordon Morris</th>\n",
              "      <td>6800.0</td>\n",
              "      <td>3</td>\n",
              "    </tr>\n",
              "    <tr>\n",
              "      <th>AGENT00884</th>\n",
              "      <th>Dawn Krans</th>\n",
              "      <td>6500.0</td>\n",
              "      <td>3</td>\n",
              "    </tr>\n",
              "    <tr>\n",
              "      <th>AGENT00170</th>\n",
              "      <th>Kyle Allen</th>\n",
              "      <td>6200.0</td>\n",
              "      <td>3</td>\n",
              "    </tr>\n",
              "    <tr>\n",
              "      <th>AGENT00604</th>\n",
              "      <th>Thelma Salinas</th>\n",
              "      <td>5500.0</td>\n",
              "      <td>3</td>\n",
              "    </tr>\n",
              "  </tbody>\n",
              "</table>\n",
              "<p>1055 rows × 2 columns</p>\n",
              "</div>\n",
              "      <button class=\"colab-df-convert\" onclick=\"convertToInteractive('df-7cddae5f-56e7-47f1-a64e-c04726020ae4')\"\n",
              "              title=\"Convert this dataframe to an interactive table.\"\n",
              "              style=\"display:none;\">\n",
              "        \n",
              "  <svg xmlns=\"http://www.w3.org/2000/svg\" height=\"24px\"viewBox=\"0 0 24 24\"\n",
              "       width=\"24px\">\n",
              "    <path d=\"M0 0h24v24H0V0z\" fill=\"none\"/>\n",
              "    <path d=\"M18.56 5.44l.94 2.06.94-2.06 2.06-.94-2.06-.94-.94-2.06-.94 2.06-2.06.94zm-11 1L8.5 8.5l.94-2.06 2.06-.94-2.06-.94L8.5 2.5l-.94 2.06-2.06.94zm10 10l.94 2.06.94-2.06 2.06-.94-2.06-.94-.94-2.06-.94 2.06-2.06.94z\"/><path d=\"M17.41 7.96l-1.37-1.37c-.4-.4-.92-.59-1.43-.59-.52 0-1.04.2-1.43.59L10.3 9.45l-7.72 7.72c-.78.78-.78 2.05 0 2.83L4 21.41c.39.39.9.59 1.41.59.51 0 1.02-.2 1.41-.59l7.78-7.78 2.81-2.81c.8-.78.8-2.07 0-2.86zM5.41 20L4 18.59l7.72-7.72 1.47 1.35L5.41 20z\"/>\n",
              "  </svg>\n",
              "      </button>\n",
              "      \n",
              "  <style>\n",
              "    .colab-df-container {\n",
              "      display:flex;\n",
              "      flex-wrap:wrap;\n",
              "      gap: 12px;\n",
              "    }\n",
              "\n",
              "    .colab-df-convert {\n",
              "      background-color: #E8F0FE;\n",
              "      border: none;\n",
              "      border-radius: 50%;\n",
              "      cursor: pointer;\n",
              "      display: none;\n",
              "      fill: #1967D2;\n",
              "      height: 32px;\n",
              "      padding: 0 0 0 0;\n",
              "      width: 32px;\n",
              "    }\n",
              "\n",
              "    .colab-df-convert:hover {\n",
              "      background-color: #E2EBFA;\n",
              "      box-shadow: 0px 1px 2px rgba(60, 64, 67, 0.3), 0px 1px 3px 1px rgba(60, 64, 67, 0.15);\n",
              "      fill: #174EA6;\n",
              "    }\n",
              "\n",
              "    [theme=dark] .colab-df-convert {\n",
              "      background-color: #3B4455;\n",
              "      fill: #D2E3FC;\n",
              "    }\n",
              "\n",
              "    [theme=dark] .colab-df-convert:hover {\n",
              "      background-color: #434B5C;\n",
              "      box-shadow: 0px 1px 3px 1px rgba(0, 0, 0, 0.15);\n",
              "      filter: drop-shadow(0px 1px 2px rgba(0, 0, 0, 0.3));\n",
              "      fill: #FFFFFF;\n",
              "    }\n",
              "  </style>\n",
              "\n",
              "      <script>\n",
              "        const buttonEl =\n",
              "          document.querySelector('#df-7cddae5f-56e7-47f1-a64e-c04726020ae4 button.colab-df-convert');\n",
              "        buttonEl.style.display =\n",
              "          google.colab.kernel.accessAllowed ? 'block' : 'none';\n",
              "\n",
              "        async function convertToInteractive(key) {\n",
              "          const element = document.querySelector('#df-7cddae5f-56e7-47f1-a64e-c04726020ae4');\n",
              "          const dataTable =\n",
              "            await google.colab.kernel.invokeFunction('convertToInteractive',\n",
              "                                                     [key], {});\n",
              "          if (!dataTable) return;\n",
              "\n",
              "          const docLinkHtml = 'Like what you see? Visit the ' +\n",
              "            '<a target=\"_blank\" href=https://colab.research.google.com/notebooks/data_table.ipynb>data table notebook</a>'\n",
              "            + ' to learn more about interactive tables.';\n",
              "          element.innerHTML = '';\n",
              "          dataTable['output_type'] = 'display_data';\n",
              "          await google.colab.output.renderOutput(dataTable, element);\n",
              "          const docLink = document.createElement('div');\n",
              "          docLink.innerHTML = docLinkHtml;\n",
              "          element.appendChild(docLink);\n",
              "        }\n",
              "      </script>\n",
              "    </div>\n",
              "  </div>\n",
              "  "
            ]
          },
          "metadata": {},
          "execution_count": 61
        }
      ],
      "source": [
        "Top_agents.join(type_count)\n"
      ]
    },
    {
      "cell_type": "markdown",
      "id": "80318eea",
      "metadata": {
        "id": "80318eea"
      },
      "source": [
        "## Task 8\n",
        "Mobile & Travel Insurance premium are discounted by 10%\n",
        "Health and Property Insurance premium are increased by 7%\n",
        "Life and Motor Insurance premium are marginally increased by 2%\n",
        "What will be overall change in % of the Premium Amount Collected for all these Customer?"
      ]
    },
    {
      "cell_type": "code",
      "execution_count": null,
      "id": "1998375d",
      "metadata": {
        "id": "1998375d"
      },
      "outputs": [],
      "source": [
        "premium_collected_earlier = view['PREMIUM_AMOUNT'].sum()\n"
      ]
    },
    {
      "cell_type": "code",
      "execution_count": null,
      "id": "dea30e58",
      "metadata": {
        "id": "dea30e58"
      },
      "outputs": [],
      "source": [
        "prem_by_types = view.groupby('INSURANCE_TYPE').sum()['PREMIUM_AMOUNT'].to_dict()\n"
      ]
    },
    {
      "cell_type": "code",
      "execution_count": null,
      "id": "b9493f8b",
      "metadata": {
        "colab": {
          "base_uri": "https://localhost:8080/"
        },
        "id": "b9493f8b",
        "outputId": "1ff5c19c-e778-483f-8aab-12a6f4060af2"
      },
      "outputs": [
        {
          "output_type": "execute_result",
          "data": {
            "text/plain": [
              "{'Health': 176908.42,\n",
              " 'Life': 88710.29,\n",
              " 'Mobile': 10958.17,\n",
              " 'Motor': 117087.75,\n",
              " 'Property': 145527.16,\n",
              " 'Travel': 89660.0}"
            ]
          },
          "metadata": {},
          "execution_count": 97
        }
      ],
      "source": [
        "prem_by_types\n"
      ]
    },
    {
      "cell_type": "code",
      "execution_count": null,
      "id": "20b8938b",
      "metadata": {
        "colab": {
          "base_uri": "https://localhost:8080/"
        },
        "id": "20b8938b",
        "outputId": "36866f24-9b9e-42f1-edcb-be9867f1b980"
      },
      "outputs": [
        {
          "output_type": "execute_result",
          "data": {
            "text/plain": [
              "{'Health': 189292.00940000004,\n",
              " 'Life': 90484.49579999999,\n",
              " 'Mobile': 9862.353000000001,\n",
              " 'Motor': 119429.505,\n",
              " 'Property': 155714.06120000003,\n",
              " 'Travel': 80694.0}"
            ]
          },
          "metadata": {},
          "execution_count": 98
        }
      ],
      "source": [
        "prem_by_types['Mobile']*=0.9\n",
        "prem_by_types['Travel']*=0.9\n",
        "# Health and Property premium increases by 7%\n",
        "prem_by_types['Health']*=1.07\n",
        "prem_by_types['Property']*=1.07\n",
        "# Life and Motor premium increased by 2%\n",
        "prem_by_types['Life']*=1.02\n",
        "prem_by_types['Motor']*=1.02\n",
        "prem_by_types"
      ]
    },
    {
      "cell_type": "code",
      "execution_count": null,
      "id": "26b787e0",
      "metadata": {
        "id": "26b787e0"
      },
      "outputs": [],
      "source": [
        "revised_premium = sum(prem_by_types.values())\n"
      ]
    },
    {
      "cell_type": "code",
      "execution_count": null,
      "id": "848d99ab",
      "metadata": {
        "colab": {
          "base_uri": "https://localhost:8080/"
        },
        "id": "848d99ab",
        "outputId": "e41dbac5-508d-4dff-fdf6-d3a8aa3a3b52"
      },
      "outputs": [
        {
          "output_type": "execute_result",
          "data": {
            "text/plain": [
              "2.643649054413915"
            ]
          },
          "metadata": {},
          "execution_count": 100
        }
      ],
      "source": [
        "(revised_premium-premium_collected_earlier)*100/premium_collected_earlier\n"
      ]
    },
    {
      "cell_type": "code",
      "execution_count": null,
      "id": "6b95f70c",
      "metadata": {
        "colab": {
          "base_uri": "https://localhost:8080/"
        },
        "id": "6b95f70c",
        "outputId": "986e20af-a625-457d-e424-b5563cba5cc4"
      },
      "outputs": [
        {
          "output_type": "execute_result",
          "data": {
            "text/plain": [
              "(628851.79, 645476.4244)"
            ]
          },
          "metadata": {},
          "execution_count": 102
        }
      ],
      "source": [
        "premium_collected_earlier,revised_premium\n"
      ]
    },
    {
      "cell_type": "markdown",
      "id": "8be31cba",
      "metadata": {
        "id": "8be31cba"
      },
      "source": [
        "## Task 9\n",
        "Business wants to give discount to customer who are loyal and under stress due to Covid\n",
        "19. They have laid down an eligibility Criteria as follow\n",
        "IF CUSTOMER_TENURE > 60 AND EMPLOYMENT_STATUS = “N”\n",
        "AND NO_OF_FAMILY_MEMBERS >=4 THEN 1 ELSE 0\n",
        "Create a new column “ELIGIBLE_FOR_DISCOUNT” and find it\n",
        "mean."
      ]
    },
    {
      "cell_type": "code",
      "execution_count": null,
      "id": "5508365d",
      "metadata": {
        "id": "5508365d"
      },
      "outputs": [],
      "source": [
        "disc_status=(view['TENURE']>60)&(view['EMPLOYMENT_STATUS']=='N')&(view['NO_OF_FAMILY_MEMBERS']>=4)"
      ]
    },
    {
      "cell_type": "code",
      "execution_count": null,
      "id": "e0611b22",
      "metadata": {
        "id": "e0611b22"
      },
      "outputs": [],
      "source": [
        "view['ELIGIBLE_FOR_DISCOUNT'] = disc_status.astype('int')\n"
      ]
    },
    {
      "cell_type": "code",
      "execution_count": null,
      "id": "9d2ff7d5",
      "metadata": {
        "colab": {
          "base_uri": "https://localhost:8080/"
        },
        "id": "9d2ff7d5",
        "outputId": "f1e94c4b-7619-4d23-d628-7aea1c9a8f83"
      },
      "outputs": [
        {
          "output_type": "execute_result",
          "data": {
            "text/plain": [
              "0.031114225648213034"
            ]
          },
          "metadata": {},
          "execution_count": 64
        }
      ],
      "source": [
        "view.ELIGIBLE_FOR_DISCOUNT.mean()\n"
      ]
    },
    {
      "cell_type": "markdown",
      "id": "3ee02089",
      "metadata": {
        "id": "3ee02089"
      },
      "source": [
        "## Task 10\n",
        "Business wants to check Claim Velocity which is defined as follow\n",
        "CLAIM_VELOCITY = NO_OF_CLAIMS_IN_LAST30DAYS (for the current insurance type)\n",
        "/ NO_OF_CLAIMS_IN_LAST3DAYS (for the current insurance type)\n",
        "Note: LAST30DAYS & LAST3DAYS does not include current\n",
        "day"
      ]
    },
    {
      "cell_type": "code",
      "execution_count": null,
      "id": "2462f653",
      "metadata": {
        "colab": {
          "base_uri": "https://localhost:8080/"
        },
        "id": "2462f653",
        "outputId": "e007809c-ba31-4114-913e-eb9f609ba569"
      },
      "outputs": [
        {
          "output_type": "execute_result",
          "data": {
            "text/plain": [
              "Timestamp('2021-06-30 00:00:00')"
            ]
          },
          "metadata": {},
          "execution_count": 65
        }
      ],
      "source": [
        "curr_date\n"
      ]
    },
    {
      "cell_type": "code",
      "execution_count": null,
      "id": "5cfc6aa4",
      "metadata": {
        "colab": {
          "base_uri": "https://localhost:8080/"
        },
        "id": "5cfc6aa4",
        "outputId": "113e7e4c-9d76-4f53-e0e9-0847c3f34577"
      },
      "outputs": [
        {
          "output_type": "execute_result",
          "data": {
            "text/plain": [
              "A    6777\n",
              "D     357\n",
              "Name: CLAIM_STATUS, dtype: int64"
            ]
          },
          "metadata": {},
          "execution_count": 66
        }
      ],
      "source": [
        "view['CLAIM_STATUS'].value_counts()\n"
      ]
    },
    {
      "cell_type": "code",
      "execution_count": null,
      "id": "6cdf6355",
      "metadata": {
        "id": "6cdf6355"
      },
      "outputs": [],
      "source": [
        "last_3_days = view.loc[(view['TXN_DATE_TIME'] > curr_date-pd.Timedelta(days=4)) & (view['TXN_DATE_TIME'] < curr_date)]"
      ]
    },
    {
      "cell_type": "code",
      "execution_count": null,
      "id": "fe76ac03",
      "metadata": {
        "id": "fe76ac03"
      },
      "outputs": [],
      "source": [
        "claims_in_last_30_days = pd.DataFrame.from_dict(last_30[last_30['CLAIM_STATUS']=='A'].groupby('INSURANCE_TYPE').size().to_dict(),orient='index',columns=['NO_OF_CLAIMS_IN_LAST30DAYS'])"
      ]
    },
    {
      "cell_type": "code",
      "execution_count": null,
      "id": "087d1ca5",
      "metadata": {
        "id": "087d1ca5"
      },
      "outputs": [],
      "source": [
        "claims_in_last_3_days = pd.DataFrame.from_dict(last_3_days[last_3_days['CLAIM_STATUS']=='A'].groupby('INSURANCE_TYPE').size().to_dict(),orient='index',columns=['NO_OF_CLAIMS_IN_LAST3DAYS'])"
      ]
    },
    {
      "cell_type": "code",
      "execution_count": null,
      "id": "b15b0b09",
      "metadata": {
        "id": "b15b0b09"
      },
      "outputs": [],
      "source": [
        "approved_claims = claims_in_last_30_days.join(claims_in_last_3_days)"
      ]
    },
    {
      "cell_type": "code",
      "execution_count": null,
      "id": "b9efa8d4",
      "metadata": {
        "id": "b9efa8d4"
      },
      "outputs": [],
      "source": [
        "approved_claims['CLAIM_VELOCITY'] = approved_claims['NO_OF_CLAIMS_IN_LAST30DAYS']/approved_claims['NO_OF_CLAIMS_IN_LAST3DAYS']"
      ]
    },
    {
      "cell_type": "code",
      "execution_count": null,
      "id": "3e23e8d9",
      "metadata": {
        "colab": {
          "base_uri": "https://localhost:8080/",
          "height": 49
        },
        "id": "3e23e8d9",
        "outputId": "5bce0ea2-d1c4-4146-c063-d055a84fecca"
      },
      "outputs": [
        {
          "output_type": "execute_result",
          "data": {
            "text/plain": [
              "Empty DataFrame\n",
              "Columns: [NO_OF_CLAIMS_IN_LAST30DAYS, NO_OF_CLAIMS_IN_LAST3DAYS, CLAIM_VELOCITY]\n",
              "Index: []"
            ],
            "text/html": [
              "\n",
              "  <div id=\"df-6783255d-3dd2-4121-9ca9-b1189a958c76\">\n",
              "    <div class=\"colab-df-container\">\n",
              "      <div>\n",
              "<style scoped>\n",
              "    .dataframe tbody tr th:only-of-type {\n",
              "        vertical-align: middle;\n",
              "    }\n",
              "\n",
              "    .dataframe tbody tr th {\n",
              "        vertical-align: top;\n",
              "    }\n",
              "\n",
              "    .dataframe thead th {\n",
              "        text-align: right;\n",
              "    }\n",
              "</style>\n",
              "<table border=\"1\" class=\"dataframe\">\n",
              "  <thead>\n",
              "    <tr style=\"text-align: right;\">\n",
              "      <th></th>\n",
              "      <th>NO_OF_CLAIMS_IN_LAST30DAYS</th>\n",
              "      <th>NO_OF_CLAIMS_IN_LAST3DAYS</th>\n",
              "      <th>CLAIM_VELOCITY</th>\n",
              "    </tr>\n",
              "  </thead>\n",
              "  <tbody>\n",
              "  </tbody>\n",
              "</table>\n",
              "</div>\n",
              "      <button class=\"colab-df-convert\" onclick=\"convertToInteractive('df-6783255d-3dd2-4121-9ca9-b1189a958c76')\"\n",
              "              title=\"Convert this dataframe to an interactive table.\"\n",
              "              style=\"display:none;\">\n",
              "        \n",
              "  <svg xmlns=\"http://www.w3.org/2000/svg\" height=\"24px\"viewBox=\"0 0 24 24\"\n",
              "       width=\"24px\">\n",
              "    <path d=\"M0 0h24v24H0V0z\" fill=\"none\"/>\n",
              "    <path d=\"M18.56 5.44l.94 2.06.94-2.06 2.06-.94-2.06-.94-.94-2.06-.94 2.06-2.06.94zm-11 1L8.5 8.5l.94-2.06 2.06-.94-2.06-.94L8.5 2.5l-.94 2.06-2.06.94zm10 10l.94 2.06.94-2.06 2.06-.94-2.06-.94-.94-2.06-.94 2.06-2.06.94z\"/><path d=\"M17.41 7.96l-1.37-1.37c-.4-.4-.92-.59-1.43-.59-.52 0-1.04.2-1.43.59L10.3 9.45l-7.72 7.72c-.78.78-.78 2.05 0 2.83L4 21.41c.39.39.9.59 1.41.59.51 0 1.02-.2 1.41-.59l7.78-7.78 2.81-2.81c.8-.78.8-2.07 0-2.86zM5.41 20L4 18.59l7.72-7.72 1.47 1.35L5.41 20z\"/>\n",
              "  </svg>\n",
              "      </button>\n",
              "      \n",
              "  <style>\n",
              "    .colab-df-container {\n",
              "      display:flex;\n",
              "      flex-wrap:wrap;\n",
              "      gap: 12px;\n",
              "    }\n",
              "\n",
              "    .colab-df-convert {\n",
              "      background-color: #E8F0FE;\n",
              "      border: none;\n",
              "      border-radius: 50%;\n",
              "      cursor: pointer;\n",
              "      display: none;\n",
              "      fill: #1967D2;\n",
              "      height: 32px;\n",
              "      padding: 0 0 0 0;\n",
              "      width: 32px;\n",
              "    }\n",
              "\n",
              "    .colab-df-convert:hover {\n",
              "      background-color: #E2EBFA;\n",
              "      box-shadow: 0px 1px 2px rgba(60, 64, 67, 0.3), 0px 1px 3px 1px rgba(60, 64, 67, 0.15);\n",
              "      fill: #174EA6;\n",
              "    }\n",
              "\n",
              "    [theme=dark] .colab-df-convert {\n",
              "      background-color: #3B4455;\n",
              "      fill: #D2E3FC;\n",
              "    }\n",
              "\n",
              "    [theme=dark] .colab-df-convert:hover {\n",
              "      background-color: #434B5C;\n",
              "      box-shadow: 0px 1px 3px 1px rgba(0, 0, 0, 0.15);\n",
              "      filter: drop-shadow(0px 1px 2px rgba(0, 0, 0, 0.3));\n",
              "      fill: #FFFFFF;\n",
              "    }\n",
              "  </style>\n",
              "\n",
              "      <script>\n",
              "        const buttonEl =\n",
              "          document.querySelector('#df-6783255d-3dd2-4121-9ca9-b1189a958c76 button.colab-df-convert');\n",
              "        buttonEl.style.display =\n",
              "          google.colab.kernel.accessAllowed ? 'block' : 'none';\n",
              "\n",
              "        async function convertToInteractive(key) {\n",
              "          const element = document.querySelector('#df-6783255d-3dd2-4121-9ca9-b1189a958c76');\n",
              "          const dataTable =\n",
              "            await google.colab.kernel.invokeFunction('convertToInteractive',\n",
              "                                                     [key], {});\n",
              "          if (!dataTable) return;\n",
              "\n",
              "          const docLinkHtml = 'Like what you see? Visit the ' +\n",
              "            '<a target=\"_blank\" href=https://colab.research.google.com/notebooks/data_table.ipynb>data table notebook</a>'\n",
              "            + ' to learn more about interactive tables.';\n",
              "          element.innerHTML = '';\n",
              "          dataTable['output_type'] = 'display_data';\n",
              "          await google.colab.output.renderOutput(dataTable, element);\n",
              "          const docLink = document.createElement('div');\n",
              "          docLink.innerHTML = docLinkHtml;\n",
              "          element.appendChild(docLink);\n",
              "        }\n",
              "      </script>\n",
              "    </div>\n",
              "  </div>\n",
              "  "
            ]
          },
          "metadata": {},
          "execution_count": 72
        }
      ],
      "source": [
        "approved_claims\n"
      ]
    },
    {
      "cell_type": "code",
      "execution_count": null,
      "id": "6566e88d",
      "metadata": {
        "id": "6566e88d"
      },
      "outputs": [],
      "source": [
        "All_claims30D = pd.DataFrame.from_dict(last_30.groupby('INSURANCE_TYPE').size().to_dict(),orient='index',columns=['NO_OF_CLAIMS_IN_LAST30DAYS'])\n"
      ]
    },
    {
      "cell_type": "code",
      "execution_count": null,
      "id": "b136f516",
      "metadata": {
        "id": "b136f516"
      },
      "outputs": [],
      "source": [
        "All_claims3D = pd.DataFrame.from_dict(last_3_days.groupby('INSURANCE_TYPE').size().to_dict(),orient='index',columns=['NO_OF_CLAIMS_IN_LAST3DAYS'])\n"
      ]
    },
    {
      "cell_type": "code",
      "execution_count": null,
      "id": "e006cb86",
      "metadata": {
        "id": "e006cb86"
      },
      "outputs": [],
      "source": [
        "total_claims=All_claims30D.join(All_claims3D)\n"
      ]
    },
    {
      "cell_type": "code",
      "execution_count": null,
      "id": "bab2c859",
      "metadata": {
        "id": "bab2c859"
      },
      "outputs": [],
      "source": [
        "total_claims['CLAIM_VELOCITY'] = total_claims['NO_OF_CLAIMS_IN_LAST30DAYS']/total_claims['NO_OF_CLAIMS_IN_LAST3DAYS']\n"
      ]
    },
    {
      "cell_type": "code",
      "execution_count": null,
      "id": "890ea0e2",
      "metadata": {
        "colab": {
          "base_uri": "https://localhost:8080/",
          "height": 49
        },
        "id": "890ea0e2",
        "outputId": "a9dcb084-73a6-40ad-baa9-c1395ca439ed"
      },
      "outputs": [
        {
          "output_type": "execute_result",
          "data": {
            "text/plain": [
              "Empty DataFrame\n",
              "Columns: [NO_OF_CLAIMS_IN_LAST30DAYS, NO_OF_CLAIMS_IN_LAST3DAYS, CLAIM_VELOCITY]\n",
              "Index: []"
            ],
            "text/html": [
              "\n",
              "  <div id=\"df-66324dff-982e-4e72-9019-d8b1d4b71ce9\">\n",
              "    <div class=\"colab-df-container\">\n",
              "      <div>\n",
              "<style scoped>\n",
              "    .dataframe tbody tr th:only-of-type {\n",
              "        vertical-align: middle;\n",
              "    }\n",
              "\n",
              "    .dataframe tbody tr th {\n",
              "        vertical-align: top;\n",
              "    }\n",
              "\n",
              "    .dataframe thead th {\n",
              "        text-align: right;\n",
              "    }\n",
              "</style>\n",
              "<table border=\"1\" class=\"dataframe\">\n",
              "  <thead>\n",
              "    <tr style=\"text-align: right;\">\n",
              "      <th></th>\n",
              "      <th>NO_OF_CLAIMS_IN_LAST30DAYS</th>\n",
              "      <th>NO_OF_CLAIMS_IN_LAST3DAYS</th>\n",
              "      <th>CLAIM_VELOCITY</th>\n",
              "    </tr>\n",
              "  </thead>\n",
              "  <tbody>\n",
              "  </tbody>\n",
              "</table>\n",
              "</div>\n",
              "      <button class=\"colab-df-convert\" onclick=\"convertToInteractive('df-66324dff-982e-4e72-9019-d8b1d4b71ce9')\"\n",
              "              title=\"Convert this dataframe to an interactive table.\"\n",
              "              style=\"display:none;\">\n",
              "        \n",
              "  <svg xmlns=\"http://www.w3.org/2000/svg\" height=\"24px\"viewBox=\"0 0 24 24\"\n",
              "       width=\"24px\">\n",
              "    <path d=\"M0 0h24v24H0V0z\" fill=\"none\"/>\n",
              "    <path d=\"M18.56 5.44l.94 2.06.94-2.06 2.06-.94-2.06-.94-.94-2.06-.94 2.06-2.06.94zm-11 1L8.5 8.5l.94-2.06 2.06-.94-2.06-.94L8.5 2.5l-.94 2.06-2.06.94zm10 10l.94 2.06.94-2.06 2.06-.94-2.06-.94-.94-2.06-.94 2.06-2.06.94z\"/><path d=\"M17.41 7.96l-1.37-1.37c-.4-.4-.92-.59-1.43-.59-.52 0-1.04.2-1.43.59L10.3 9.45l-7.72 7.72c-.78.78-.78 2.05 0 2.83L4 21.41c.39.39.9.59 1.41.59.51 0 1.02-.2 1.41-.59l7.78-7.78 2.81-2.81c.8-.78.8-2.07 0-2.86zM5.41 20L4 18.59l7.72-7.72 1.47 1.35L5.41 20z\"/>\n",
              "  </svg>\n",
              "      </button>\n",
              "      \n",
              "  <style>\n",
              "    .colab-df-container {\n",
              "      display:flex;\n",
              "      flex-wrap:wrap;\n",
              "      gap: 12px;\n",
              "    }\n",
              "\n",
              "    .colab-df-convert {\n",
              "      background-color: #E8F0FE;\n",
              "      border: none;\n",
              "      border-radius: 50%;\n",
              "      cursor: pointer;\n",
              "      display: none;\n",
              "      fill: #1967D2;\n",
              "      height: 32px;\n",
              "      padding: 0 0 0 0;\n",
              "      width: 32px;\n",
              "    }\n",
              "\n",
              "    .colab-df-convert:hover {\n",
              "      background-color: #E2EBFA;\n",
              "      box-shadow: 0px 1px 2px rgba(60, 64, 67, 0.3), 0px 1px 3px 1px rgba(60, 64, 67, 0.15);\n",
              "      fill: #174EA6;\n",
              "    }\n",
              "\n",
              "    [theme=dark] .colab-df-convert {\n",
              "      background-color: #3B4455;\n",
              "      fill: #D2E3FC;\n",
              "    }\n",
              "\n",
              "    [theme=dark] .colab-df-convert:hover {\n",
              "      background-color: #434B5C;\n",
              "      box-shadow: 0px 1px 3px 1px rgba(0, 0, 0, 0.15);\n",
              "      filter: drop-shadow(0px 1px 2px rgba(0, 0, 0, 0.3));\n",
              "      fill: #FFFFFF;\n",
              "    }\n",
              "  </style>\n",
              "\n",
              "      <script>\n",
              "        const buttonEl =\n",
              "          document.querySelector('#df-66324dff-982e-4e72-9019-d8b1d4b71ce9 button.colab-df-convert');\n",
              "        buttonEl.style.display =\n",
              "          google.colab.kernel.accessAllowed ? 'block' : 'none';\n",
              "\n",
              "        async function convertToInteractive(key) {\n",
              "          const element = document.querySelector('#df-66324dff-982e-4e72-9019-d8b1d4b71ce9');\n",
              "          const dataTable =\n",
              "            await google.colab.kernel.invokeFunction('convertToInteractive',\n",
              "                                                     [key], {});\n",
              "          if (!dataTable) return;\n",
              "\n",
              "          const docLinkHtml = 'Like what you see? Visit the ' +\n",
              "            '<a target=\"_blank\" href=https://colab.research.google.com/notebooks/data_table.ipynb>data table notebook</a>'\n",
              "            + ' to learn more about interactive tables.';\n",
              "          element.innerHTML = '';\n",
              "          dataTable['output_type'] = 'display_data';\n",
              "          await google.colab.output.renderOutput(dataTable, element);\n",
              "          const docLink = document.createElement('div');\n",
              "          docLink.innerHTML = docLinkHtml;\n",
              "          element.appendChild(docLink);\n",
              "        }\n",
              "      </script>\n",
              "    </div>\n",
              "  </div>\n",
              "  "
            ]
          },
          "metadata": {},
          "execution_count": 77
        }
      ],
      "source": [
        "total_claims\n"
      ]
    },
    {
      "cell_type": "markdown",
      "id": "d11e0d69",
      "metadata": {
        "id": "d11e0d69"
      },
      "source": [
        "## Task 11\n",
        "Find all low performing agents i.e. employees who are in the bottom 5 percentile based\n",
        "on Claims worked by them."
      ]
    },
    {
      "cell_type": "code",
      "execution_count": null,
      "id": "490e4a50",
      "metadata": {
        "id": "490e4a50"
      },
      "outputs": [],
      "source": [
        "bottom_5percentile_limit = view.groupby('AGENT_ID').sum().quantile(0.05)['CLAIM_AMOUNT']\n"
      ]
    },
    {
      "cell_type": "code",
      "execution_count": null,
      "id": "5e2e34ff",
      "metadata": {
        "id": "5e2e34ff"
      },
      "outputs": [],
      "source": [
        "Agent_grouped_data = view.groupby('AGENT_ID').sum()\n"
      ]
    },
    {
      "cell_type": "code",
      "execution_count": null,
      "id": "1bd385f7",
      "metadata": {
        "colab": {
          "base_uri": "https://localhost:8080/",
          "height": 1000
        },
        "id": "1bd385f7",
        "outputId": "8dc0bff6-5204-4ab6-8d14-9be2d7b48ff5"
      },
      "outputs": [
        {
          "output_type": "execute_result",
          "data": {
            "text/plain": [
              "            CLAIM_AMOUNT\n",
              "AGENT_ID                \n",
              "AGENT00014        7400.0\n",
              "AGENT00068        9700.0\n",
              "AGENT00071       10100.0\n",
              "AGENT00074       10300.0\n",
              "AGENT00106        7000.0\n",
              "AGENT00134       10000.0\n",
              "AGENT00170        6200.0\n",
              "AGENT00172       11400.0\n",
              "AGENT00188        8400.0\n",
              "AGENT00263       11300.0\n",
              "AGENT00272        6800.0\n",
              "AGENT00275        2200.0\n",
              "AGENT00279       10000.0\n",
              "AGENT00300       12600.0\n",
              "AGENT00314        8100.0\n",
              "AGENT00316        6000.0\n",
              "AGENT00328       12000.0\n",
              "AGENT00351        2700.0\n",
              "AGENT00355        5000.0\n",
              "AGENT00435       12400.0\n",
              "AGENT00440        6300.0\n",
              "AGENT00442        4300.0\n",
              "AGENT00517       11000.0\n",
              "AGENT00550       11500.0\n",
              "AGENT00585        5600.0\n",
              "AGENT00604        5500.0\n",
              "AGENT00621        5000.0\n",
              "AGENT00623       12500.0\n",
              "AGENT00628        6000.0\n",
              "AGENT00674        6400.0\n",
              "AGENT00689        5700.0\n",
              "AGENT00706        5000.0\n",
              "AGENT00721        8600.0\n",
              "AGENT00728        8200.0\n",
              "AGENT00732         100.0\n",
              "AGENT00760        1700.0\n",
              "AGENT00773        8000.0\n",
              "AGENT00774        9800.0\n",
              "AGENT00780        7000.0\n",
              "AGENT00783        1000.0\n",
              "AGENT00790        4000.0\n",
              "AGENT00819       11400.0\n",
              "AGENT00823       12600.0\n",
              "AGENT00860        7700.0\n",
              "AGENT00872        9800.0\n",
              "AGENT00884        6500.0\n",
              "AGENT00900        1200.0\n",
              "AGENT00910       11500.0\n",
              "AGENT00912       12100.0\n",
              "AGENT01002        9500.0\n",
              "AGENT01029        3100.0\n",
              "AGENT01037        5200.0\n",
              "AGENT01066       11800.0\n",
              "AGENT01077        4000.0\n",
              "AGENT01093        1100.0\n",
              "AGENT01136       10500.0\n",
              "AGENT01139       11100.0\n",
              "AGENT01151        3000.0\n",
              "AGENT01154         800.0\n",
              "AGENT01157       10200.0"
            ],
            "text/html": [
              "\n",
              "  <div id=\"df-562c7597-4a93-4018-863c-cfc2c89c7ada\">\n",
              "    <div class=\"colab-df-container\">\n",
              "      <div>\n",
              "<style scoped>\n",
              "    .dataframe tbody tr th:only-of-type {\n",
              "        vertical-align: middle;\n",
              "    }\n",
              "\n",
              "    .dataframe tbody tr th {\n",
              "        vertical-align: top;\n",
              "    }\n",
              "\n",
              "    .dataframe thead th {\n",
              "        text-align: right;\n",
              "    }\n",
              "</style>\n",
              "<table border=\"1\" class=\"dataframe\">\n",
              "  <thead>\n",
              "    <tr style=\"text-align: right;\">\n",
              "      <th></th>\n",
              "      <th>CLAIM_AMOUNT</th>\n",
              "    </tr>\n",
              "    <tr>\n",
              "      <th>AGENT_ID</th>\n",
              "      <th></th>\n",
              "    </tr>\n",
              "  </thead>\n",
              "  <tbody>\n",
              "    <tr>\n",
              "      <th>AGENT00014</th>\n",
              "      <td>7400.0</td>\n",
              "    </tr>\n",
              "    <tr>\n",
              "      <th>AGENT00068</th>\n",
              "      <td>9700.0</td>\n",
              "    </tr>\n",
              "    <tr>\n",
              "      <th>AGENT00071</th>\n",
              "      <td>10100.0</td>\n",
              "    </tr>\n",
              "    <tr>\n",
              "      <th>AGENT00074</th>\n",
              "      <td>10300.0</td>\n",
              "    </tr>\n",
              "    <tr>\n",
              "      <th>AGENT00106</th>\n",
              "      <td>7000.0</td>\n",
              "    </tr>\n",
              "    <tr>\n",
              "      <th>AGENT00134</th>\n",
              "      <td>10000.0</td>\n",
              "    </tr>\n",
              "    <tr>\n",
              "      <th>AGENT00170</th>\n",
              "      <td>6200.0</td>\n",
              "    </tr>\n",
              "    <tr>\n",
              "      <th>AGENT00172</th>\n",
              "      <td>11400.0</td>\n",
              "    </tr>\n",
              "    <tr>\n",
              "      <th>AGENT00188</th>\n",
              "      <td>8400.0</td>\n",
              "    </tr>\n",
              "    <tr>\n",
              "      <th>AGENT00263</th>\n",
              "      <td>11300.0</td>\n",
              "    </tr>\n",
              "    <tr>\n",
              "      <th>AGENT00272</th>\n",
              "      <td>6800.0</td>\n",
              "    </tr>\n",
              "    <tr>\n",
              "      <th>AGENT00275</th>\n",
              "      <td>2200.0</td>\n",
              "    </tr>\n",
              "    <tr>\n",
              "      <th>AGENT00279</th>\n",
              "      <td>10000.0</td>\n",
              "    </tr>\n",
              "    <tr>\n",
              "      <th>AGENT00300</th>\n",
              "      <td>12600.0</td>\n",
              "    </tr>\n",
              "    <tr>\n",
              "      <th>AGENT00314</th>\n",
              "      <td>8100.0</td>\n",
              "    </tr>\n",
              "    <tr>\n",
              "      <th>AGENT00316</th>\n",
              "      <td>6000.0</td>\n",
              "    </tr>\n",
              "    <tr>\n",
              "      <th>AGENT00328</th>\n",
              "      <td>12000.0</td>\n",
              "    </tr>\n",
              "    <tr>\n",
              "      <th>AGENT00351</th>\n",
              "      <td>2700.0</td>\n",
              "    </tr>\n",
              "    <tr>\n",
              "      <th>AGENT00355</th>\n",
              "      <td>5000.0</td>\n",
              "    </tr>\n",
              "    <tr>\n",
              "      <th>AGENT00435</th>\n",
              "      <td>12400.0</td>\n",
              "    </tr>\n",
              "    <tr>\n",
              "      <th>AGENT00440</th>\n",
              "      <td>6300.0</td>\n",
              "    </tr>\n",
              "    <tr>\n",
              "      <th>AGENT00442</th>\n",
              "      <td>4300.0</td>\n",
              "    </tr>\n",
              "    <tr>\n",
              "      <th>AGENT00517</th>\n",
              "      <td>11000.0</td>\n",
              "    </tr>\n",
              "    <tr>\n",
              "      <th>AGENT00550</th>\n",
              "      <td>11500.0</td>\n",
              "    </tr>\n",
              "    <tr>\n",
              "      <th>AGENT00585</th>\n",
              "      <td>5600.0</td>\n",
              "    </tr>\n",
              "    <tr>\n",
              "      <th>AGENT00604</th>\n",
              "      <td>5500.0</td>\n",
              "    </tr>\n",
              "    <tr>\n",
              "      <th>AGENT00621</th>\n",
              "      <td>5000.0</td>\n",
              "    </tr>\n",
              "    <tr>\n",
              "      <th>AGENT00623</th>\n",
              "      <td>12500.0</td>\n",
              "    </tr>\n",
              "    <tr>\n",
              "      <th>AGENT00628</th>\n",
              "      <td>6000.0</td>\n",
              "    </tr>\n",
              "    <tr>\n",
              "      <th>AGENT00674</th>\n",
              "      <td>6400.0</td>\n",
              "    </tr>\n",
              "    <tr>\n",
              "      <th>AGENT00689</th>\n",
              "      <td>5700.0</td>\n",
              "    </tr>\n",
              "    <tr>\n",
              "      <th>AGENT00706</th>\n",
              "      <td>5000.0</td>\n",
              "    </tr>\n",
              "    <tr>\n",
              "      <th>AGENT00721</th>\n",
              "      <td>8600.0</td>\n",
              "    </tr>\n",
              "    <tr>\n",
              "      <th>AGENT00728</th>\n",
              "      <td>8200.0</td>\n",
              "    </tr>\n",
              "    <tr>\n",
              "      <th>AGENT00732</th>\n",
              "      <td>100.0</td>\n",
              "    </tr>\n",
              "    <tr>\n",
              "      <th>AGENT00760</th>\n",
              "      <td>1700.0</td>\n",
              "    </tr>\n",
              "    <tr>\n",
              "      <th>AGENT00773</th>\n",
              "      <td>8000.0</td>\n",
              "    </tr>\n",
              "    <tr>\n",
              "      <th>AGENT00774</th>\n",
              "      <td>9800.0</td>\n",
              "    </tr>\n",
              "    <tr>\n",
              "      <th>AGENT00780</th>\n",
              "      <td>7000.0</td>\n",
              "    </tr>\n",
              "    <tr>\n",
              "      <th>AGENT00783</th>\n",
              "      <td>1000.0</td>\n",
              "    </tr>\n",
              "    <tr>\n",
              "      <th>AGENT00790</th>\n",
              "      <td>4000.0</td>\n",
              "    </tr>\n",
              "    <tr>\n",
              "      <th>AGENT00819</th>\n",
              "      <td>11400.0</td>\n",
              "    </tr>\n",
              "    <tr>\n",
              "      <th>AGENT00823</th>\n",
              "      <td>12600.0</td>\n",
              "    </tr>\n",
              "    <tr>\n",
              "      <th>AGENT00860</th>\n",
              "      <td>7700.0</td>\n",
              "    </tr>\n",
              "    <tr>\n",
              "      <th>AGENT00872</th>\n",
              "      <td>9800.0</td>\n",
              "    </tr>\n",
              "    <tr>\n",
              "      <th>AGENT00884</th>\n",
              "      <td>6500.0</td>\n",
              "    </tr>\n",
              "    <tr>\n",
              "      <th>AGENT00900</th>\n",
              "      <td>1200.0</td>\n",
              "    </tr>\n",
              "    <tr>\n",
              "      <th>AGENT00910</th>\n",
              "      <td>11500.0</td>\n",
              "    </tr>\n",
              "    <tr>\n",
              "      <th>AGENT00912</th>\n",
              "      <td>12100.0</td>\n",
              "    </tr>\n",
              "    <tr>\n",
              "      <th>AGENT01002</th>\n",
              "      <td>9500.0</td>\n",
              "    </tr>\n",
              "    <tr>\n",
              "      <th>AGENT01029</th>\n",
              "      <td>3100.0</td>\n",
              "    </tr>\n",
              "    <tr>\n",
              "      <th>AGENT01037</th>\n",
              "      <td>5200.0</td>\n",
              "    </tr>\n",
              "    <tr>\n",
              "      <th>AGENT01066</th>\n",
              "      <td>11800.0</td>\n",
              "    </tr>\n",
              "    <tr>\n",
              "      <th>AGENT01077</th>\n",
              "      <td>4000.0</td>\n",
              "    </tr>\n",
              "    <tr>\n",
              "      <th>AGENT01093</th>\n",
              "      <td>1100.0</td>\n",
              "    </tr>\n",
              "    <tr>\n",
              "      <th>AGENT01136</th>\n",
              "      <td>10500.0</td>\n",
              "    </tr>\n",
              "    <tr>\n",
              "      <th>AGENT01139</th>\n",
              "      <td>11100.0</td>\n",
              "    </tr>\n",
              "    <tr>\n",
              "      <th>AGENT01151</th>\n",
              "      <td>3000.0</td>\n",
              "    </tr>\n",
              "    <tr>\n",
              "      <th>AGENT01154</th>\n",
              "      <td>800.0</td>\n",
              "    </tr>\n",
              "    <tr>\n",
              "      <th>AGENT01157</th>\n",
              "      <td>10200.0</td>\n",
              "    </tr>\n",
              "  </tbody>\n",
              "</table>\n",
              "</div>\n",
              "      <button class=\"colab-df-convert\" onclick=\"convertToInteractive('df-562c7597-4a93-4018-863c-cfc2c89c7ada')\"\n",
              "              title=\"Convert this dataframe to an interactive table.\"\n",
              "              style=\"display:none;\">\n",
              "        \n",
              "  <svg xmlns=\"http://www.w3.org/2000/svg\" height=\"24px\"viewBox=\"0 0 24 24\"\n",
              "       width=\"24px\">\n",
              "    <path d=\"M0 0h24v24H0V0z\" fill=\"none\"/>\n",
              "    <path d=\"M18.56 5.44l.94 2.06.94-2.06 2.06-.94-2.06-.94-.94-2.06-.94 2.06-2.06.94zm-11 1L8.5 8.5l.94-2.06 2.06-.94-2.06-.94L8.5 2.5l-.94 2.06-2.06.94zm10 10l.94 2.06.94-2.06 2.06-.94-2.06-.94-.94-2.06-.94 2.06-2.06.94z\"/><path d=\"M17.41 7.96l-1.37-1.37c-.4-.4-.92-.59-1.43-.59-.52 0-1.04.2-1.43.59L10.3 9.45l-7.72 7.72c-.78.78-.78 2.05 0 2.83L4 21.41c.39.39.9.59 1.41.59.51 0 1.02-.2 1.41-.59l7.78-7.78 2.81-2.81c.8-.78.8-2.07 0-2.86zM5.41 20L4 18.59l7.72-7.72 1.47 1.35L5.41 20z\"/>\n",
              "  </svg>\n",
              "      </button>\n",
              "      \n",
              "  <style>\n",
              "    .colab-df-container {\n",
              "      display:flex;\n",
              "      flex-wrap:wrap;\n",
              "      gap: 12px;\n",
              "    }\n",
              "\n",
              "    .colab-df-convert {\n",
              "      background-color: #E8F0FE;\n",
              "      border: none;\n",
              "      border-radius: 50%;\n",
              "      cursor: pointer;\n",
              "      display: none;\n",
              "      fill: #1967D2;\n",
              "      height: 32px;\n",
              "      padding: 0 0 0 0;\n",
              "      width: 32px;\n",
              "    }\n",
              "\n",
              "    .colab-df-convert:hover {\n",
              "      background-color: #E2EBFA;\n",
              "      box-shadow: 0px 1px 2px rgba(60, 64, 67, 0.3), 0px 1px 3px 1px rgba(60, 64, 67, 0.15);\n",
              "      fill: #174EA6;\n",
              "    }\n",
              "\n",
              "    [theme=dark] .colab-df-convert {\n",
              "      background-color: #3B4455;\n",
              "      fill: #D2E3FC;\n",
              "    }\n",
              "\n",
              "    [theme=dark] .colab-df-convert:hover {\n",
              "      background-color: #434B5C;\n",
              "      box-shadow: 0px 1px 3px 1px rgba(0, 0, 0, 0.15);\n",
              "      filter: drop-shadow(0px 1px 2px rgba(0, 0, 0, 0.3));\n",
              "      fill: #FFFFFF;\n",
              "    }\n",
              "  </style>\n",
              "\n",
              "      <script>\n",
              "        const buttonEl =\n",
              "          document.querySelector('#df-562c7597-4a93-4018-863c-cfc2c89c7ada button.colab-df-convert');\n",
              "        buttonEl.style.display =\n",
              "          google.colab.kernel.accessAllowed ? 'block' : 'none';\n",
              "\n",
              "        async function convertToInteractive(key) {\n",
              "          const element = document.querySelector('#df-562c7597-4a93-4018-863c-cfc2c89c7ada');\n",
              "          const dataTable =\n",
              "            await google.colab.kernel.invokeFunction('convertToInteractive',\n",
              "                                                     [key], {});\n",
              "          if (!dataTable) return;\n",
              "\n",
              "          const docLinkHtml = 'Like what you see? Visit the ' +\n",
              "            '<a target=\"_blank\" href=https://colab.research.google.com/notebooks/data_table.ipynb>data table notebook</a>'\n",
              "            + ' to learn more about interactive tables.';\n",
              "          element.innerHTML = '';\n",
              "          dataTable['output_type'] = 'display_data';\n",
              "          await google.colab.output.renderOutput(dataTable, element);\n",
              "          const docLink = document.createElement('div');\n",
              "          docLink.innerHTML = docLinkHtml;\n",
              "          element.appendChild(docLink);\n",
              "        }\n",
              "      </script>\n",
              "    </div>\n",
              "  </div>\n",
              "  "
            ]
          },
          "metadata": {},
          "execution_count": 80
        }
      ],
      "source": [
        "low_performing_agents = Agent_grouped_data[Agent_grouped_data['CLAIM_AMOUNT']<=bottom_5percentile_limit][['CLAIM_AMOUNT']]\n",
        "low_performing_agents\n"
      ]
    },
    {
      "cell_type": "markdown",
      "id": "f189a523",
      "metadata": {
        "id": "f189a523"
      },
      "source": [
        "## Task 12\n",
        "Business wants to find all Suspicious Employees (Agents).\n",
        "IF TOTAL CLAIM AMOUNT which meet below criteria is >= 15000 THEN AGENT is classified\n",
        "as Suspicious ELSE Not\n",
        "CLAIM_STATUS = Approved AND CUSTOMER_RISK_SEGMENTATION = High\n",
        "AND INCIDENT_SEVERITY = “Major Loss”\n",
        "If Suspicious, then 1 ELSE 0. Find mean of this column"
      ]
    },
    {
      "cell_type": "code",
      "execution_count": null,
      "id": "c4c43725",
      "metadata": {
        "id": "c4c43725"
      },
      "outputs": [],
      "source": [
        "criteria = (view['CLAIM_STATUS']=='A')&(view['RISK_SEGMENTATION']=='H')&(view['INCIDENT_SEVERITY']=='Major Loss')"
      ]
    },
    {
      "cell_type": "code",
      "execution_count": null,
      "id": "1b77afcb",
      "metadata": {
        "id": "1b77afcb"
      },
      "outputs": [],
      "source": [
        "criteriamet = view[criteria]\n"
      ]
    },
    {
      "cell_type": "code",
      "execution_count": null,
      "id": "08e647c0",
      "metadata": {
        "id": "08e647c0"
      },
      "outputs": [],
      "source": [
        "grouped_suspicion_data = criteriamet.groupby('AGENT_ID').sum()\n"
      ]
    },
    {
      "cell_type": "code",
      "execution_count": null,
      "id": "11cfd304",
      "metadata": {
        "id": "11cfd304"
      },
      "outputs": [],
      "source": [
        "suspicious_agents = list(grouped_suspicion_data[grouped_suspicion_data['CLAIM_AMOUNT']>=15000].index)\n"
      ]
    },
    {
      "cell_type": "code",
      "execution_count": null,
      "id": "4aadc338",
      "metadata": {
        "id": "4aadc338"
      },
      "outputs": [],
      "source": [
        "suspicious_agents = list(grouped_suspicion_data[grouped_suspicion_data['CLAIM_AMOUNT']>=15000].index)\n"
      ]
    },
    {
      "cell_type": "code",
      "execution_count": null,
      "id": "3b6b2742",
      "metadata": {
        "colab": {
          "base_uri": "https://localhost:8080/",
          "height": 554
        },
        "id": "3b6b2742",
        "outputId": "de22354d-4729-4d85-eb6c-c8baf17a5ea4"
      },
      "outputs": [
        {
          "output_type": "execute_result",
          "data": {
            "text/plain": [
              "        AGENT_ID         AGENT_NAME DATE_OF_JOINING  \\\n",
              "0     AGENT00001          Ray Johns      1993-06-05   \n",
              "1     AGENT00002      Angelo Borjon      2005-12-27   \n",
              "2     AGENT00003     Candy Spellman      2003-09-02   \n",
              "3     AGENT00004         Mary Smith      2004-09-23   \n",
              "4     AGENT00005       Mildred Diaz      2011-06-21   \n",
              "...          ...                ...             ...   \n",
              "1195  AGENT01196     Myrtle Mccatty      2005-09-14   \n",
              "1196  AGENT01197        John Dorsey      1993-12-04   \n",
              "1197  AGENT01198        Ruth Bigbee      1993-09-05   \n",
              "1198  AGENT01199     Tommie Camacho      2004-10-25   \n",
              "1199  AGENT01200  Virginia Stachura      1999-05-25   \n",
              "\n",
              "                         ADDRESS_LINE1 ADDRESS_LINE2              CITY STATE  \\\n",
              "0                     1402 Maggies Way           NaN  Waterbury Center    VT   \n",
              "1                       414 Tanya Pass           NaN       Panama City    FL   \n",
              "2                  606 National Street          #306      Fayetteville    AR   \n",
              "3                235 Hugh Thomas Drive           NaN       Panama City    FL   \n",
              "4                3426 Broadview Street           NaN        Montgomery    AL   \n",
              "...                                ...           ...               ...   ...   \n",
              "1195  3553 Brandywine Street Northwest           NaN        Washington    DC   \n",
              "1196              2315 Chestnut Street           NaN        Montgomery    AL   \n",
              "1197            1983 Reidsville Street           NaN         Annapolis    MD   \n",
              "1198                  5821 Taft Street           NaN            Arvada    CO   \n",
              "1199                   3579 2nd Avenue           NaN         Edgewater    MD   \n",
              "\n",
              "      POSTAL_CODE  EMP_ROUTING_NUMBER     EMP_ACCT_NUMBER  \n",
              "0            5677            34584958  HKUN51252328472585  \n",
              "1           32404           107363763  OPIS19290040088204  \n",
              "2           72701            81744097  YSCJ67489688482590  \n",
              "3           32404            67563771  ZANG21285355574581  \n",
              "4           36110           114951317  DZFS82244494451134  \n",
              "...           ...                 ...                 ...  \n",
              "1195        20008            32137938  EWBR19907574832501  \n",
              "1196        36107            70796687  KGEJ74846009867837  \n",
              "1197        21401           124993912  RASV88064214164820  \n",
              "1198        80004            19424059  UOFO11656245339211  \n",
              "1199        21037            12226940  ALYY24945545778511  \n",
              "\n",
              "[1200 rows x 10 columns]"
            ],
            "text/html": [
              "\n",
              "  <div id=\"df-48e98fa2-ea38-4880-b672-c71f18d61c5d\">\n",
              "    <div class=\"colab-df-container\">\n",
              "      <div>\n",
              "<style scoped>\n",
              "    .dataframe tbody tr th:only-of-type {\n",
              "        vertical-align: middle;\n",
              "    }\n",
              "\n",
              "    .dataframe tbody tr th {\n",
              "        vertical-align: top;\n",
              "    }\n",
              "\n",
              "    .dataframe thead th {\n",
              "        text-align: right;\n",
              "    }\n",
              "</style>\n",
              "<table border=\"1\" class=\"dataframe\">\n",
              "  <thead>\n",
              "    <tr style=\"text-align: right;\">\n",
              "      <th></th>\n",
              "      <th>AGENT_ID</th>\n",
              "      <th>AGENT_NAME</th>\n",
              "      <th>DATE_OF_JOINING</th>\n",
              "      <th>ADDRESS_LINE1</th>\n",
              "      <th>ADDRESS_LINE2</th>\n",
              "      <th>CITY</th>\n",
              "      <th>STATE</th>\n",
              "      <th>POSTAL_CODE</th>\n",
              "      <th>EMP_ROUTING_NUMBER</th>\n",
              "      <th>EMP_ACCT_NUMBER</th>\n",
              "    </tr>\n",
              "  </thead>\n",
              "  <tbody>\n",
              "    <tr>\n",
              "      <th>0</th>\n",
              "      <td>AGENT00001</td>\n",
              "      <td>Ray Johns</td>\n",
              "      <td>1993-06-05</td>\n",
              "      <td>1402 Maggies Way</td>\n",
              "      <td>NaN</td>\n",
              "      <td>Waterbury Center</td>\n",
              "      <td>VT</td>\n",
              "      <td>5677</td>\n",
              "      <td>34584958</td>\n",
              "      <td>HKUN51252328472585</td>\n",
              "    </tr>\n",
              "    <tr>\n",
              "      <th>1</th>\n",
              "      <td>AGENT00002</td>\n",
              "      <td>Angelo Borjon</td>\n",
              "      <td>2005-12-27</td>\n",
              "      <td>414 Tanya Pass</td>\n",
              "      <td>NaN</td>\n",
              "      <td>Panama City</td>\n",
              "      <td>FL</td>\n",
              "      <td>32404</td>\n",
              "      <td>107363763</td>\n",
              "      <td>OPIS19290040088204</td>\n",
              "    </tr>\n",
              "    <tr>\n",
              "      <th>2</th>\n",
              "      <td>AGENT00003</td>\n",
              "      <td>Candy Spellman</td>\n",
              "      <td>2003-09-02</td>\n",
              "      <td>606 National Street</td>\n",
              "      <td>#306</td>\n",
              "      <td>Fayetteville</td>\n",
              "      <td>AR</td>\n",
              "      <td>72701</td>\n",
              "      <td>81744097</td>\n",
              "      <td>YSCJ67489688482590</td>\n",
              "    </tr>\n",
              "    <tr>\n",
              "      <th>3</th>\n",
              "      <td>AGENT00004</td>\n",
              "      <td>Mary Smith</td>\n",
              "      <td>2004-09-23</td>\n",
              "      <td>235 Hugh Thomas Drive</td>\n",
              "      <td>NaN</td>\n",
              "      <td>Panama City</td>\n",
              "      <td>FL</td>\n",
              "      <td>32404</td>\n",
              "      <td>67563771</td>\n",
              "      <td>ZANG21285355574581</td>\n",
              "    </tr>\n",
              "    <tr>\n",
              "      <th>4</th>\n",
              "      <td>AGENT00005</td>\n",
              "      <td>Mildred Diaz</td>\n",
              "      <td>2011-06-21</td>\n",
              "      <td>3426 Broadview Street</td>\n",
              "      <td>NaN</td>\n",
              "      <td>Montgomery</td>\n",
              "      <td>AL</td>\n",
              "      <td>36110</td>\n",
              "      <td>114951317</td>\n",
              "      <td>DZFS82244494451134</td>\n",
              "    </tr>\n",
              "    <tr>\n",
              "      <th>...</th>\n",
              "      <td>...</td>\n",
              "      <td>...</td>\n",
              "      <td>...</td>\n",
              "      <td>...</td>\n",
              "      <td>...</td>\n",
              "      <td>...</td>\n",
              "      <td>...</td>\n",
              "      <td>...</td>\n",
              "      <td>...</td>\n",
              "      <td>...</td>\n",
              "    </tr>\n",
              "    <tr>\n",
              "      <th>1195</th>\n",
              "      <td>AGENT01196</td>\n",
              "      <td>Myrtle Mccatty</td>\n",
              "      <td>2005-09-14</td>\n",
              "      <td>3553 Brandywine Street Northwest</td>\n",
              "      <td>NaN</td>\n",
              "      <td>Washington</td>\n",
              "      <td>DC</td>\n",
              "      <td>20008</td>\n",
              "      <td>32137938</td>\n",
              "      <td>EWBR19907574832501</td>\n",
              "    </tr>\n",
              "    <tr>\n",
              "      <th>1196</th>\n",
              "      <td>AGENT01197</td>\n",
              "      <td>John Dorsey</td>\n",
              "      <td>1993-12-04</td>\n",
              "      <td>2315 Chestnut Street</td>\n",
              "      <td>NaN</td>\n",
              "      <td>Montgomery</td>\n",
              "      <td>AL</td>\n",
              "      <td>36107</td>\n",
              "      <td>70796687</td>\n",
              "      <td>KGEJ74846009867837</td>\n",
              "    </tr>\n",
              "    <tr>\n",
              "      <th>1197</th>\n",
              "      <td>AGENT01198</td>\n",
              "      <td>Ruth Bigbee</td>\n",
              "      <td>1993-09-05</td>\n",
              "      <td>1983 Reidsville Street</td>\n",
              "      <td>NaN</td>\n",
              "      <td>Annapolis</td>\n",
              "      <td>MD</td>\n",
              "      <td>21401</td>\n",
              "      <td>124993912</td>\n",
              "      <td>RASV88064214164820</td>\n",
              "    </tr>\n",
              "    <tr>\n",
              "      <th>1198</th>\n",
              "      <td>AGENT01199</td>\n",
              "      <td>Tommie Camacho</td>\n",
              "      <td>2004-10-25</td>\n",
              "      <td>5821 Taft Street</td>\n",
              "      <td>NaN</td>\n",
              "      <td>Arvada</td>\n",
              "      <td>CO</td>\n",
              "      <td>80004</td>\n",
              "      <td>19424059</td>\n",
              "      <td>UOFO11656245339211</td>\n",
              "    </tr>\n",
              "    <tr>\n",
              "      <th>1199</th>\n",
              "      <td>AGENT01200</td>\n",
              "      <td>Virginia Stachura</td>\n",
              "      <td>1999-05-25</td>\n",
              "      <td>3579 2nd Avenue</td>\n",
              "      <td>NaN</td>\n",
              "      <td>Edgewater</td>\n",
              "      <td>MD</td>\n",
              "      <td>21037</td>\n",
              "      <td>12226940</td>\n",
              "      <td>ALYY24945545778511</td>\n",
              "    </tr>\n",
              "  </tbody>\n",
              "</table>\n",
              "<p>1200 rows × 10 columns</p>\n",
              "</div>\n",
              "      <button class=\"colab-df-convert\" onclick=\"convertToInteractive('df-48e98fa2-ea38-4880-b672-c71f18d61c5d')\"\n",
              "              title=\"Convert this dataframe to an interactive table.\"\n",
              "              style=\"display:none;\">\n",
              "        \n",
              "  <svg xmlns=\"http://www.w3.org/2000/svg\" height=\"24px\"viewBox=\"0 0 24 24\"\n",
              "       width=\"24px\">\n",
              "    <path d=\"M0 0h24v24H0V0z\" fill=\"none\"/>\n",
              "    <path d=\"M18.56 5.44l.94 2.06.94-2.06 2.06-.94-2.06-.94-.94-2.06-.94 2.06-2.06.94zm-11 1L8.5 8.5l.94-2.06 2.06-.94-2.06-.94L8.5 2.5l-.94 2.06-2.06.94zm10 10l.94 2.06.94-2.06 2.06-.94-2.06-.94-.94-2.06-.94 2.06-2.06.94z\"/><path d=\"M17.41 7.96l-1.37-1.37c-.4-.4-.92-.59-1.43-.59-.52 0-1.04.2-1.43.59L10.3 9.45l-7.72 7.72c-.78.78-.78 2.05 0 2.83L4 21.41c.39.39.9.59 1.41.59.51 0 1.02-.2 1.41-.59l7.78-7.78 2.81-2.81c.8-.78.8-2.07 0-2.86zM5.41 20L4 18.59l7.72-7.72 1.47 1.35L5.41 20z\"/>\n",
              "  </svg>\n",
              "      </button>\n",
              "      \n",
              "  <style>\n",
              "    .colab-df-container {\n",
              "      display:flex;\n",
              "      flex-wrap:wrap;\n",
              "      gap: 12px;\n",
              "    }\n",
              "\n",
              "    .colab-df-convert {\n",
              "      background-color: #E8F0FE;\n",
              "      border: none;\n",
              "      border-radius: 50%;\n",
              "      cursor: pointer;\n",
              "      display: none;\n",
              "      fill: #1967D2;\n",
              "      height: 32px;\n",
              "      padding: 0 0 0 0;\n",
              "      width: 32px;\n",
              "    }\n",
              "\n",
              "    .colab-df-convert:hover {\n",
              "      background-color: #E2EBFA;\n",
              "      box-shadow: 0px 1px 2px rgba(60, 64, 67, 0.3), 0px 1px 3px 1px rgba(60, 64, 67, 0.15);\n",
              "      fill: #174EA6;\n",
              "    }\n",
              "\n",
              "    [theme=dark] .colab-df-convert {\n",
              "      background-color: #3B4455;\n",
              "      fill: #D2E3FC;\n",
              "    }\n",
              "\n",
              "    [theme=dark] .colab-df-convert:hover {\n",
              "      background-color: #434B5C;\n",
              "      box-shadow: 0px 1px 3px 1px rgba(0, 0, 0, 0.15);\n",
              "      filter: drop-shadow(0px 1px 2px rgba(0, 0, 0, 0.3));\n",
              "      fill: #FFFFFF;\n",
              "    }\n",
              "  </style>\n",
              "\n",
              "      <script>\n",
              "        const buttonEl =\n",
              "          document.querySelector('#df-48e98fa2-ea38-4880-b672-c71f18d61c5d button.colab-df-convert');\n",
              "        buttonEl.style.display =\n",
              "          google.colab.kernel.accessAllowed ? 'block' : 'none';\n",
              "\n",
              "        async function convertToInteractive(key) {\n",
              "          const element = document.querySelector('#df-48e98fa2-ea38-4880-b672-c71f18d61c5d');\n",
              "          const dataTable =\n",
              "            await google.colab.kernel.invokeFunction('convertToInteractive',\n",
              "                                                     [key], {});\n",
              "          if (!dataTable) return;\n",
              "\n",
              "          const docLinkHtml = 'Like what you see? Visit the ' +\n",
              "            '<a target=\"_blank\" href=https://colab.research.google.com/notebooks/data_table.ipynb>data table notebook</a>'\n",
              "            + ' to learn more about interactive tables.';\n",
              "          element.innerHTML = '';\n",
              "          dataTable['output_type'] = 'display_data';\n",
              "          await google.colab.output.renderOutput(dataTable, element);\n",
              "          const docLink = document.createElement('div');\n",
              "          docLink.innerHTML = docLinkHtml;\n",
              "          element.appendChild(docLink);\n",
              "        }\n",
              "      </script>\n",
              "    </div>\n",
              "  </div>\n",
              "  "
            ]
          },
          "metadata": {},
          "execution_count": 86
        }
      ],
      "source": [
        "employee_data\n"
      ]
    },
    {
      "cell_type": "code",
      "execution_count": null,
      "id": "5ca9ebe1",
      "metadata": {
        "id": "5ca9ebe1"
      },
      "outputs": [],
      "source": [
        "employee_data['SUSPICIOUS'] = 0\n"
      ]
    },
    {
      "cell_type": "code",
      "execution_count": null,
      "id": "83d87866",
      "metadata": {
        "id": "83d87866"
      },
      "outputs": [],
      "source": [
        "sus_emp_slice = employee_data['AGENT_ID'].isin(suspicious_agents)\n"
      ]
    },
    {
      "cell_type": "code",
      "execution_count": null,
      "id": "f033764b",
      "metadata": {
        "id": "f033764b"
      },
      "outputs": [],
      "source": [
        "employee_data.loc[sus_emp_slice,'SUSPICIOUS']=1\n"
      ]
    },
    {
      "cell_type": "code",
      "execution_count": null,
      "id": "dfebebb5",
      "metadata": {
        "colab": {
          "base_uri": "https://localhost:8080/"
        },
        "id": "dfebebb5",
        "outputId": "a49a3b26-2a93-47fd-e8ea-df31ece83074"
      },
      "outputs": [
        {
          "output_type": "execute_result",
          "data": {
            "text/plain": [
              "0.08666666666666667"
            ]
          },
          "metadata": {},
          "execution_count": 90
        }
      ],
      "source": [
        "employee_data['SUSPICIOUS'].mean()\n"
      ]
    },
    {
      "cell_type": "code",
      "source": [
        "from google.colab import drive\n",
        "drive.mount('/content/drive')"
      ],
      "metadata": {
        "colab": {
          "base_uri": "https://localhost:8080/"
        },
        "id": "FYTHxpxtxfwH",
        "outputId": "27bdc676-411e-4bfa-a6f5-1836b10b0a07"
      },
      "id": "FYTHxpxtxfwH",
      "execution_count": null,
      "outputs": [
        {
          "output_type": "stream",
          "name": "stdout",
          "text": [
            "Drive already mounted at /content/drive; to attempt to forcibly remount, call drive.mount(\"/content/drive\", force_remount=True).\n"
          ]
        }
      ]
    },
    {
      "cell_type": "code",
      "source": [
        ""
      ],
      "metadata": {
        "id": "x1DxJXoAxgiM"
      },
      "id": "x1DxJXoAxgiM",
      "execution_count": null,
      "outputs": []
    }
  ],
  "metadata": {
    "kernelspec": {
      "display_name": "Python 3 (ipykernel)",
      "language": "python",
      "name": "python3"
    },
    "language_info": {
      "codemirror_mode": {
        "name": "ipython",
        "version": 3
      },
      "file_extension": ".py",
      "mimetype": "text/x-python",
      "name": "python",
      "nbconvert_exporter": "python",
      "pygments_lexer": "ipython3",
      "version": "3.9.7"
    },
    "colab": {
      "name": "Assignment (1).ipynb",
      "provenance": [],
      "collapsed_sections": [],
      "include_colab_link": true
    }
  },
  "nbformat": 4,
  "nbformat_minor": 5
}